{
 "cells": [
  {
   "cell_type": "markdown",
   "metadata": {
    "slideshow": {
     "slide_type": "skip"
    },
    "toc": true
   },
   "source": [
    "<h1>Table of Contents<span class=\"tocSkip\"></span></h1>\n",
    "<div class=\"toc\"><ul class=\"toc-item\"><li><span><a href=\"#Python-Programming-Workshop\" data-toc-modified-id=\"Python-Programming-Workshop-1\">Python Programming Workshop</a></span><ul class=\"toc-item\"><li><span><a href=\"#IISc-SIAM-Student-Chapter\" data-toc-modified-id=\"IISc-SIAM-Student-Chapter-1.1\">IISc-SIAM Student Chapter</a></span></li><li><span><a href=\"#Installing-Python\" data-toc-modified-id=\"Installing-Python-1.2\">Installing Python</a></span></li><li><span><a href=\"#Overview-of-Workshop\" data-toc-modified-id=\"Overview-of-Workshop-1.3\">Overview of Workshop</a></span></li><li><span><a href=\"#Software\" data-toc-modified-id=\"Software-1.4\">Software</a></span></li><li><span><a href=\"#Benefits-of-these-Sessions\" data-toc-modified-id=\"Benefits-of-these-Sessions-1.5\">Benefits of these Sessions</a></span></li><li><span><a href=\"#Why-Python?---Funny-Note\" data-toc-modified-id=\"Why-Python?---Funny-Note-1.6\">Why Python? - Funny Note</a></span></li><li><span><a href=\"#Why-Python?---Serious-note\" data-toc-modified-id=\"Why-Python?---Serious-note-1.7\">Why Python? - Serious note</a></span></li><li><span><a href=\"#Is-Python-absolutely-advantageous?\" data-toc-modified-id=\"Is-Python-absolutely-advantageous?-1.8\">Is Python absolutely advantageous?</a></span></li><li><span><a href=\"#Python-Versions\" data-toc-modified-id=\"Python-Versions-1.9\">Python Versions</a></span></li><li><span><a href=\"#Topics-covered-in-these-sessions---Today\" data-toc-modified-id=\"Topics-covered-in-these-sessions---Today-1.10\">Topics covered in these sessions - Today</a></span><ul class=\"toc-item\"><li><span><a href=\"#Session-1:\" data-toc-modified-id=\"Session-1:-1.10.1\">Session 1:</a></span></li><li><span><a href=\"#Session-2:\" data-toc-modified-id=\"Session-2:-1.10.2\">Session 2:</a></span></li></ul></li><li><span><a href=\"#Topics-covered-in-these-sessions---Tomorrow\" data-toc-modified-id=\"Topics-covered-in-these-sessions---Tomorrow-1.11\">Topics covered in these sessions - Tomorrow</a></span><ul class=\"toc-item\"><li><span><a href=\"#Session-3:\" data-toc-modified-id=\"Session-3:-1.11.1\">Session 3:</a></span></li><li><span><a href=\"#Session-4:\" data-toc-modified-id=\"Session-4:-1.11.2\">Session 4:</a></span></li></ul></li><li><span><a href=\"#About-Anaconda-Python-Distribution\" data-toc-modified-id=\"About-Anaconda-Python-Distribution-1.12\">About Anaconda Python Distribution</a></span></li><li><span><a href=\"#About-Miniconda\" data-toc-modified-id=\"About-Miniconda-1.13\">About Miniconda</a></span></li><li><span><a href=\"#Ideology\" data-toc-modified-id=\"Ideology-1.14\">Ideology</a></span></li><li><span><a href=\"#So,-what-to-look-for-in-any-programming-language?\" data-toc-modified-id=\"So,-what-to-look-for-in-any-programming-language?-1.15\">So, what to look for in any programming language?</a></span></li><li><span><a href=\"#Let's-write-our-first-program\" data-toc-modified-id=\"Let's-write-our-first-program-1.16\">Let's write our first program</a></span></li><li><span><a href=\"#Program-to-ask-the-name,-temperature,-and-rainfall-of-a-place-and-print-it\" data-toc-modified-id=\"Program-to-ask-the-name,-temperature,-and-rainfall-of-a-place-and-print-it-1.17\">Program to ask the name, temperature, and rainfall of a place and print it</a></span></li><li><span><a href=\"#Comments-and-Docstrings\" data-toc-modified-id=\"Comments-and-Docstrings-1.18\">Comments and Docstrings</a></span></li><li><span><a href=\"#Input-Command\" data-toc-modified-id=\"Input-Command-1.19\">Input Command</a></span></li><li><span><a href=\"#What-is-a-data-type?\" data-toc-modified-id=\"What-is-a-data-type?-1.20\">What is a data type?</a></span></li><li><span><a href=\"#Primary-Data-Types\" data-toc-modified-id=\"Primary-Data-Types-1.21\">Primary Data Types</a></span></li><li><span><a href=\"#String-Data-type\" data-toc-modified-id=\"String-Data-type-1.22\">String Data type</a></span></li><li><span><a href=\"#Program-to-Test-out-different-types-of-variables.\" data-toc-modified-id=\"Program-to-Test-out-different-types-of-variables.-1.23\">Program to Test out different types of variables.</a></span><ul class=\"toc-item\"><li><span><a href=\"#Code\" data-toc-modified-id=\"Code-1.23.1\">Code</a></span></li><li><span><a href=\"#Output\" data-toc-modified-id=\"Output-1.23.2\">Output</a></span></li></ul></li><li><span><a href=\"#Some-simple-data-functions\" data-toc-modified-id=\"Some-simple-data-functions-1.24\">Some simple data-functions</a></span></li><li><span><a href=\"#Operators\" data-toc-modified-id=\"Operators-1.25\">Operators</a></span></li><li><span><a href=\"#Basic-Arithmetic-Operations-in-Python\" data-toc-modified-id=\"Basic-Arithmetic-Operations-in-Python-1.26\">Basic Arithmetic Operations in Python</a></span></li><li><span><a href=\"#Program-to-test-all-Basic-Operations\" data-toc-modified-id=\"Program-to-test-all-Basic-Operations-1.27\">Program to test all Basic Operations</a></span></li><li><span><a href=\"#Area-of-a-Triangle-using-Heron's-Formula\" data-toc-modified-id=\"Area-of-a-Triangle-using-Heron's-Formula-1.28\">Area of a Triangle using Heron's Formula</a></span></li><li><span><a href=\"#Code\" data-toc-modified-id=\"Code-1.29\">Code</a></span></li><li><span><a href=\"#Lists\" data-toc-modified-id=\"Lists-1.30\">Lists</a></span></li><li><span><a href=\"#Tuples\" data-toc-modified-id=\"Tuples-1.31\">Tuples</a></span></li><li><span><a href=\"#Mutation\" data-toc-modified-id=\"Mutation-1.32\">Mutation</a></span></li><li><span><a href=\"#Exception\" data-toc-modified-id=\"Exception-1.33\">Exception</a></span></li><li><span><a href=\"#Dictionary\" data-toc-modified-id=\"Dictionary-1.34\">Dictionary</a></span></li><li><span><a href=\"#Type-Casting\" data-toc-modified-id=\"Type-Casting-1.35\">Type Casting</a></span></li><li><span><a href=\"#Numpy-Arrays\" data-toc-modified-id=\"Numpy-Arrays-1.36\">Numpy Arrays</a></span></li><li><span><a href=\"#For-Loops\" data-toc-modified-id=\"For-Loops-1.37\">For Loops</a></span></li><li><span><a href=\"#Nested-For-Loops\" data-toc-modified-id=\"Nested-For-Loops-1.38\">Nested For Loops</a></span></li><li><span><a href=\"#While-Loops\" data-toc-modified-id=\"While-Loops-1.39\">While Loops</a></span></li><li><span><a href=\"#If-Clause\" data-toc-modified-id=\"If-Clause-1.40\">If Clause</a></span></li><li><span><a href=\"#Functions\" data-toc-modified-id=\"Functions-1.41\">Functions</a></span></li><li><span><a href=\"#Slicing\" data-toc-modified-id=\"Slicing-1.42\">Slicing</a></span></li><li><span><a href=\"#Modules\" data-toc-modified-id=\"Modules-1.43\">Modules</a></span></li><li><span><a href=\"#Including-them-in-the-files/functions\" data-toc-modified-id=\"Including-them-in-the-files/functions-1.44\">Including them in the files/functions</a></span></li><li><span><a href=\"#Fibonacci-Series\" data-toc-modified-id=\"Fibonacci-Series-1.45\">Fibonacci Series</a></span></li><li><span><a href=\"#Collatz-Conjecture\" data-toc-modified-id=\"Collatz-Conjecture-1.46\">Collatz Conjecture</a></span></li><li><span><a href=\"#Pascal's-Triangle\" data-toc-modified-id=\"Pascal's-Triangle-1.47\">Pascal's Triangle</a></span><ul class=\"toc-item\"><li><span><a href=\"#Idea-behind-Pascal's-triangle\" data-toc-modified-id=\"Idea-behind-Pascal's-triangle-1.47.1\">Idea behind Pascal's triangle</a></span></li></ul></li><li><span><a href=\"#Finding-Prime-Numbers\" data-toc-modified-id=\"Finding-Prime-Numbers-1.48\">Finding Prime Numbers</a></span><ul class=\"toc-item\"><li><span><a href=\"#Method-1:-Generic-Search\" data-toc-modified-id=\"Method-1:-Generic-Search-1.48.1\">Method 1: Generic Search</a></span></li></ul></li><li><span><a href=\"#Finding-Prime-Numbers\" data-toc-modified-id=\"Finding-Prime-Numbers-1.49\">Finding Prime Numbers</a></span><ul class=\"toc-item\"><li><span><a href=\"#Method-2:-AKS-Primality-test\" data-toc-modified-id=\"Method-2:-AKS-Primality-test-1.49.1\">Method 2: AKS Primality test</a></span></li></ul></li><li><span><a href=\"#Finding-Prime-Numbers\" data-toc-modified-id=\"Finding-Prime-Numbers-1.50\">Finding Prime Numbers</a></span><ul class=\"toc-item\"><li><span><a href=\"#Method-3:-Sieve-of-Eratosthenes.\" data-toc-modified-id=\"Method-3:-Sieve-of-Eratosthenes.-1.50.1\">Method 3: Sieve of Eratosthenes.</a></span></li></ul></li><li><span><a href=\"#Saving-Data-to-Data-files\" data-toc-modified-id=\"Saving-Data-to-Data-files-1.51\">Saving Data to Data files</a></span></li><li><span><a href=\"#Saving-Data-to-Data-files\" data-toc-modified-id=\"Saving-Data-to-Data-files-1.52\">Saving Data to Data files</a></span></li><li><span><a href=\"#NumPy-Matrices\" data-toc-modified-id=\"NumPy-Matrices-1.53\">NumPy Matrices</a></span></li><li><span><a href=\"#Plotting-and-Data-Visualization-with-Matplotlib\" data-toc-modified-id=\"Plotting-and-Data-Visualization-with-Matplotlib-1.54\">Plotting and Data Visualization with Matplotlib</a></span></li><li><span><a href=\"#Simple-1-D-plot\" data-toc-modified-id=\"Simple-1-D-plot-1.55\">Simple 1-D plot</a></span><ul class=\"toc-item\"><li><ul class=\"toc-item\"><li><span><a href=\"#A-friendly-note-to-freshers\" data-toc-modified-id=\"A-friendly-note-to-freshers-1.55.0.1\">A friendly note to freshers</a></span></li></ul></li></ul></li><li><span><a href=\"#Plot-with-full-Embellishment\" data-toc-modified-id=\"Plot-with-full-Embellishment-1.56\">Plot with full Embellishment</a></span></li><li><span><a href=\"#Plot-Superposition\" data-toc-modified-id=\"Plot-Superposition-1.57\">Plot Superposition</a></span></li><li><span><a href=\"#Plot-Superposition---Issues\" data-toc-modified-id=\"Plot-Superposition---Issues-1.58\">Plot Superposition - Issues</a></span></li><li><span><a href=\"#Plots-with-same-x-axis-and-different-y-axis-ranges\" data-toc-modified-id=\"Plots-with-same-x-axis-and-different-y-axis-ranges-1.59\">Plots with same x-axis and different y-axis ranges</a></span></li><li><span><a href=\"#Plots-with-same-y-axis-and-different-x-axis-ranges\" data-toc-modified-id=\"Plots-with-same-y-axis-and-different-x-axis-ranges-1.60\">Plots with same y-axis and different x-axis ranges</a></span></li><li><span><a href=\"#Colours-in-Matplotlib\" data-toc-modified-id=\"Colours-in-Matplotlib-1.61\">Colours in Matplotlib</a></span></li><li><span><a href=\"#Colours-in-Matplotlib\" data-toc-modified-id=\"Colours-in-Matplotlib-1.62\">Colours in Matplotlib</a></span></li><li><span><a href=\"#Plotting-Styles\" data-toc-modified-id=\"Plotting-Styles-1.63\">Plotting Styles</a></span></li><li><span><a href=\"#Plotting-Styles\" data-toc-modified-id=\"Plotting-Styles-1.64\">Plotting Styles</a></span></li><li><span><a href=\"#Plotting-Styles\" data-toc-modified-id=\"Plotting-Styles-1.65\">Plotting Styles</a></span></li><li><span><a href=\"#Plotting-Styles\" data-toc-modified-id=\"Plotting-Styles-1.66\">Plotting Styles</a></span></li><li><span><a href=\"#Plotting-Styles\" data-toc-modified-id=\"Plotting-Styles-1.67\">Plotting Styles</a></span></li><li><span><a href=\"#Histogram-Plots\" data-toc-modified-id=\"Histogram-Plots-1.68\">Histogram Plots</a></span></li><li><span><a href=\"#Barchart-Plots\" data-toc-modified-id=\"Barchart-Plots-1.69\">Barchart Plots</a></span></li><li><span><a href=\"#Scatter-Plots\" data-toc-modified-id=\"Scatter-Plots-1.70\">Scatter Plots</a></span></li><li><span><a href=\"#Contour-Plot\" data-toc-modified-id=\"Contour-Plot-1.71\">Contour Plot</a></span></li><li><span><a href=\"#Colour-Maps\" data-toc-modified-id=\"Colour-Maps-1.72\">Colour Maps</a></span></li><li><span><a href=\"#Tips-while-choosing-colour-maps\" data-toc-modified-id=\"Tips-while-choosing-colour-maps-1.73\">Tips while choosing colour maps</a></span></li><li><span><a href=\"#Animations\" data-toc-modified-id=\"Animations-1.74\">Animations</a></span><ul class=\"toc-item\"><li><span><a href=\"#How-to-go-about-it?---Simple-Animation\" data-toc-modified-id=\"How-to-go-about-it?---Simple-Animation-1.74.1\">How to go about it? - Simple Animation</a></span></li><li><span><a href=\"#Animation-Video\" data-toc-modified-id=\"Animation-Video-1.74.2\">Animation Video</a></span></li></ul></li><li><span><a href=\"#Simple-Animation-Script---Rose-Curves\" data-toc-modified-id=\"Simple-Animation-Script---Rose-Curves-1.75\">Simple Animation Script - Rose Curves</a></span></li><li><span><a href=\"#Animated-Video---Dynamic-Epicyles\" data-toc-modified-id=\"Animated-Video---Dynamic-Epicyles-1.76\">Animated Video - Dynamic Epicyles</a></span></li><li><span><a href=\"#JuPyter-Notebooks\" data-toc-modified-id=\"JuPyter-Notebooks-1.77\">JuPyter Notebooks</a></span><ul class=\"toc-item\"><li><span><a href=\"#So,-what-is-it?\" data-toc-modified-id=\"So,-what-is-it?-1.77.1\">So, what is it?</a></span></li></ul></li><li><span><a href=\"#How-to-open?\" data-toc-modified-id=\"How-to-open?-1.78\">How to open?</a></span></li><li><span><a href=\"#How-to-type-code?\" data-toc-modified-id=\"How-to-type-code?-1.79\">How to type code?</a></span></li><li><span><a href=\"#Headings\" data-toc-modified-id=\"Headings-1.80\">Headings</a></span></li></ul></li><li><span><a href=\"#Heading\" data-toc-modified-id=\"Heading-2\">Heading</a></span><ul class=\"toc-item\"><li><span><a href=\"#Small-Heading\" data-toc-modified-id=\"Small-Heading-2.1\">Small Heading</a></span><ul class=\"toc-item\"><li><span><a href=\"#much-smaller\" data-toc-modified-id=\"much-smaller-2.1.1\">much smaller</a></span></li></ul></li><li><span><a href=\"#Lists\" data-toc-modified-id=\"Lists-2.2\">Lists</a></span></li><li><span><a href=\"#Syntax-Highlights-for-program-snippets-in-Documentation\" data-toc-modified-id=\"Syntax-Highlights-for-program-snippets-in-Documentation-2.3\">Syntax Highlights for program snippets in Documentation</a></span></li><li><span><a href=\"#Quotes,-LaTeX-symbols-and-Links\" data-toc-modified-id=\"Quotes,-LaTeX-symbols-and-Links-2.4\">Quotes, LaTeX symbols and Links</a></span></li><li><span><a href=\"#LaTeX-notations-can-be-used\" data-toc-modified-id=\"LaTeX-notations-can-be-used-2.5\">LaTeX notations can be used</a></span></li><li><span><a href=\"#To-make-a-slide-show\" data-toc-modified-id=\"To-make-a-slide-show-2.6\">To make a slide show</a></span></li><li><span><a href=\"#To-get-a-presentation\" data-toc-modified-id=\"To-get-a-presentation-2.7\">To get a presentation</a></span></li><li><span><a href=\"#Installing-Jupyter-Extensions\" data-toc-modified-id=\"Installing-Jupyter-Extensions-2.8\">Installing Jupyter Extensions</a></span></li><li><span><a href=\"#About-Cython\" data-toc-modified-id=\"About-Cython-2.9\">About Cython</a></span></li><li><span><a href=\"#f2py\" data-toc-modified-id=\"f2py-2.10\">f2py</a></span></li><li><span><a href=\"#How-to-make-it?\" data-toc-modified-id=\"How-to-make-it?-2.11\">How to make it?</a></span></li><li><span><a href=\"#Numba\" data-toc-modified-id=\"Numba-2.12\">Numba</a></span></li><li><span><a href=\"#MPI4PY\" data-toc-modified-id=\"MPI4PY-2.13\">MPI4PY</a></span></li><li><span><a href=\"#About-Anaconda-Cloud\" data-toc-modified-id=\"About-Anaconda-Cloud-2.14\">About Anaconda Cloud</a></span></li><li><span><a href=\"#Other-interesting-packages\" data-toc-modified-id=\"Other-interesting-packages-2.15\">Other interesting packages</a></span></li><li><span><a href=\"#PEP8-conventions\" data-toc-modified-id=\"PEP8-conventions-2.16\">PEP8 conventions</a></span></li><li><span><a href=\"#&quot;The-Zen-of-Python&quot;\" data-toc-modified-id=\"&quot;The-Zen-of-Python&quot;-2.17\">\"The Zen of Python\"</a></span></li></ul></li><li><span><a href=\"#Any-Questions?\" data-toc-modified-id=\"Any-Questions?-3\">Any Questions?</a></span></li></ul></div>"
   ]
  },
  {
   "cell_type": "code",
   "execution_count": 26,
   "metadata": {
    "ExecuteTime": {
     "end_time": "2019-10-19T18:05:37.648434Z",
     "start_time": "2019-10-19T18:05:37.637992Z"
    },
    "slideshow": {
     "slide_type": "skip"
    }
   },
   "outputs": [
    {
     "data": {
      "text/plain": [
       "{'width': 1200, 'height': 800, 'scroll': True}"
      ]
     },
     "execution_count": 26,
     "metadata": {},
     "output_type": "execute_result"
    }
   ],
   "source": [
    "from IPython.display import HTML\n",
    "from IPython.display import Image\n",
    "# To get the scrolling feature in each slide\n",
    "from notebook.services.config import ConfigManager\n",
    "cm = ConfigManager()\n",
    "cm.update('livereveal', {\n",
    "        'width': 1200,\n",
    "        'height': 800,\n",
    "        'scroll': True,\n",
    "})"
   ]
  },
  {
   "cell_type": "markdown",
   "metadata": {
    "hide_input": true,
    "slideshow": {
     "slide_type": "slide"
    }
   },
   "source": [
    "# Python Programming Workshop\n",
    "\n",
    "## IISc-SIAM Student Chapter\n",
    "\n",
    "**19th and 20th October 2019**\n",
    "\n",
    "<img src=\"images/IISc_logo.jpg\" alt=\"IISc Logo\" height=\"200\" width=\"200\">\n",
    "\n",
    "Arun Prasaad Gunasekaran\n",
    "\n",
    "Centre for Atmospheric and Oceanic Sciences, Indian Institute of Science.\n",
    "\n",
    "Website: https://arunprasaad2711.github.io"
   ]
  },
  {
   "cell_type": "markdown",
   "metadata": {
    "slideshow": {
     "slide_type": "slide"
    }
   },
   "source": [
    "## Installing Python\n",
    "\n",
    "* Setup Pycharm/Spyder and check for anaconda python.\n",
    "\n",
    "Optionally\n",
    "\n",
    "* Go to [Cocalc](http://cocalc.com) and make an account."
   ]
  },
  {
   "cell_type": "markdown",
   "metadata": {
    "slideshow": {
     "slide_type": "slide"
    }
   },
   "source": [
    "## Overview of Workshop\n",
    "\n",
    "* Sessions of Demo + Class + Hands-on\n",
    "* Practice sessions based on contents\n",
    "* Laptops Complusory!\n",
    "\n",
    "## Software\n",
    "\n",
    "* IDE\n",
    "    * PyCharm or Spyder\n",
    "* Python Installer\n",
    "    * Anaconda Python Distribution\n",
    "    "
   ]
  },
  {
   "cell_type": "markdown",
   "metadata": {
    "slideshow": {
     "slide_type": "slide"
    }
   },
   "source": [
    "## Benefits of these Sessions\n"
   ]
  },
  {
   "cell_type": "markdown",
   "metadata": {
    "slideshow": {
     "slide_type": "fragment"
    }
   },
   "source": [
    "* **Short term benefits:**\n",
    "    * Useful for Assignments (First Years)\n",
    "    * Learning programming in a simpler way - for beginners\n",
    "    * Serves as an icebreaker to smoothen the class-to-research/application transition\n",
    "    * Gaining comfort and confidence\n",
    "    * Have a tool to solve simple and complex problems"
   ]
  },
  {
   "cell_type": "markdown",
   "metadata": {
    "slideshow": {
     "slide_type": "fragment"
    }
   },
   "source": [
    "  \n",
    "* **Long term benefits:**\n",
    "    * Skills are directly applicable in research\n",
    "    * Helpful to cut-down pre-research timing (Finding fixes, looking for solutions etc.,)\n",
    "    * You have a solid foundation to proceed further\n",
    "    * You can almost all the fundamental tools\n",
    "    \n",
    "All the examples here are chosen carefully so that you all get a __*strong*__ exposure to some important libraries and tools."
   ]
  },
  {
   "cell_type": "markdown",
   "metadata": {
    "slideshow": {
     "slide_type": "slide"
    }
   },
   "source": [
    "## Why Python? - Funny Note"
   ]
  },
  {
   "cell_type": "markdown",
   "metadata": {
    "slideshow": {
     "slide_type": "fragment"
    }
   },
   "source": [
    "<img src=\"images/python.png\" height=\"400\" width=\"400\">\n",
    "\n",
    "Source: http://xkcd.com/353/"
   ]
  },
  {
   "cell_type": "markdown",
   "metadata": {
    "slideshow": {
     "slide_type": "slide"
    }
   },
   "source": [
    "## Why Python? - Serious note\n",
    "---\n",
    "\n",
    "* Free, open source, cross platform\n",
    "* __Object Oriented__, __modern__, **interpreted** Programming Language\n",
    "* Very flexible and has a wide variety of features\n",
    "* Little overhead and pre-requisite\n",
    "* Easy access to work with Unix/Linux Shells\n",
    "* One great choice to learn programming from scratch to advanced levels\n",
    "* Very friendly, **intuitive** and **humane**\n",
    "* Can combine this with other programming languages\n",
    "* Plotting and visualization tools (1D, 2D, 3D) are great\n",
    "* Can be used for making GUI apps, OS, web frame works etc.,\n",
    "* Most importantly, you get to avoid **Software Piracy Issues**"
   ]
  },
  {
   "cell_type": "markdown",
   "metadata": {
    "slideshow": {
     "slide_type": "slide"
    }
   },
   "source": [
    "## Is Python absolutely advantageous?\n",
    "---\n",
    "**No!**\n",
    "Beacuse no programming language is perfect.\n",
    "\n",
    "Then why to choose Python?\n",
    "\n",
    "* You love programming in general and want to explore a lot,\n",
    "* You like the language,\n",
    "* You want to do a variety of programming with a single main language,\n",
    "    * eg: Webcrawling, Machine Learning, Data Analysis, AI, Image Processing, Computer Graphics, Software development, Web development etc.,\n",
    "* Not many licensing restrictions,\n",
    "* Work demands,\n",
    "\n",
    "Bottom line : Python is good, but not undisputed.\n",
    "\n",
    "Alternate Programming Languages: R, Julia, SageMath, IDL, Matlab, Mathematica, Maple, C, C++, Fortran."
   ]
  },
  {
   "cell_type": "markdown",
   "metadata": {
    "slideshow": {
     "slide_type": "slide"
    }
   },
   "source": [
    "## Python Versions\n",
    "\n",
    "Python comes in two broad versions:\n",
    "\n",
    "* Python 2\n",
    "* Python 3\n",
    "\n",
    "Python 2 is the older version. Stable, tested and has a lot of libraries build based on it.\n",
    "Python 3 is the newer version. Developing, considerably tested and some libraries are yet to be built on it.\n",
    "\n",
    "Which to choose? As of now, choose Python 3. Python 2 will stop support in December 2019.\n",
    "\n",
    "**Python 2 and Python 3 are not completely compatible!** Some programs written in Python 2 will throw errors in Python 3 (and vice-versa) because of **different internal architectures**. So, do not mix and match syntax!\n",
    "\n",
    "Python 3 started to get promoted. We are in a transition time. After few years, Python 2 will be dropped out from support.\n",
    "\n",
    "We will use Python 3 version."
   ]
  },
  {
   "cell_type": "markdown",
   "metadata": {
    "slideshow": {
     "slide_type": "slide"
    }
   },
   "source": [
    "## Topics covered in these sessions - Today\n",
    "\n",
    "### Session 1:\n",
    "A small intro to Python, Basic parts of the language: Comments, DocStrings, Primary Data Types, Operations, operators, Lists, Tuples, Dictionary, built-in functions, loops, if-construct, functions, and modules.\n",
    "\n",
    "### Session 2:\n",
    "Writing some simple programs using these above concepts. And a gentle introduction to NumPy and Matplotlib."
   ]
  },
  {
   "cell_type": "markdown",
   "metadata": {
    "slideshow": {
     "slide_type": "subslide"
    }
   },
   "source": [
    "## Topics covered in these sessions - Tomorrow\n",
    "\n",
    "### Session 3:\n",
    "Data Visualization using Matplotlib with Datasets - and animation - few programs. And simple code-speedups using Numba.\n",
    "\n",
    "### Session 4:\n",
    "Part 1: (hands-on) Running Python scripts in a terminal, Introduction to Jupyter Notebooks, Jupyter Slide Show - HTML notes, Markdown, LaTeX, and PDF conversions.\n",
    "\n",
    "Part 2: (Presentation, Demos, and Questions) Common python libraries that are quite useful; Demonstrations of f2py, and Cython; Brief mention about sphinx; \"Zen of Python\";"
   ]
  },
  {
   "cell_type": "markdown",
   "metadata": {
    "slideshow": {
     "slide_type": "slide"
    }
   },
   "source": [
    "## About Anaconda Python Distribution\n",
    "\n",
    "* An independent Python installer - this python does not interfere with the system python\n",
    "* Maintains and installs all the requirements\n",
    "* Comes with Spyder (a MATLAB like IDE for Python), Jupyter Console (A graphics embeddable Python Terminal), IPython Terminal (A much fancier and sophisticated Python terminal), Jupyter Notebook (Web browser based GUI to do calculations, run code snippets, write notes, and to even make presentations like this one! :) )\n",
    "* Has a wide variety of pre-installed libraries\n",
    "* Has the conda installer\n",
    "\n",
    "## About Miniconda\n",
    "\n",
    "* It is a minimal version of Anaconda Python Distribution (conda installer, Python , core python libraries)\n"
   ]
  },
  {
   "cell_type": "markdown",
   "metadata": {
    "slideshow": {
     "slide_type": "slide"
    }
   },
   "source": [
    "## Ideology"
   ]
  },
  {
   "cell_type": "markdown",
   "metadata": {
    "slideshow": {
     "slide_type": "fragment"
    }
   },
   "source": [
    "![Idealogy: Scientific Programming is an Amalgamation of Science, Mathematics, and Computer Science](flowchart.png)"
   ]
  },
  {
   "cell_type": "markdown",
   "metadata": {
    "slideshow": {
     "slide_type": "slide"
    }
   },
   "source": [
    "## So, what to look for in any programming language?\n",
    "\n",
    "This is a (personal) checklist to keep in mind to pick a programing language for scientific computation.\n",
    "\n",
    "- Basic data types, data conversions,\n",
    "- Machine Scalability,\n",
    "- Inter-operatability with other programming languages,\n",
    "- Variables, constants, sizes, precisions\n",
    "- Operators,\n",
    "- Input/Output statements,\n",
    "- Data formatting\n",
    "- Loops and decision making statements,\n",
    "- Advanced data types like arrays, pointers, derived data types,\n",
    "- Functions, Subroutines,\n",
    "- Handling data files,\n",
    "- Objects, classes,\n",
    "- External libraries/packages/modules\n",
    "- Executing multiple files simultaneously\n",
    "- Plotting and visualization facility,"
   ]
  },
  {
   "cell_type": "markdown",
   "metadata": {
    "collapsed": true,
    "slideshow": {
     "slide_type": "slide"
    }
   },
   "source": [
    " ## Let's write our first program"
   ]
  },
  {
   "cell_type": "markdown",
   "metadata": {
    "slideshow": {
     "slide_type": "fragment"
    }
   },
   "source": [
    "Open up a Text Editor and save a file with the extension ``.py``"
   ]
  },
  {
   "cell_type": "markdown",
   "metadata": {
    "slideshow": {
     "slide_type": "slide"
    }
   },
   "source": [
    "## Program to ask the name, temperature, and rainfall of a place and print it"
   ]
  },
  {
   "cell_type": "markdown",
   "metadata": {
    "slideshow": {
     "slide_type": "fragment"
    }
   },
   "source": [
    "```python\n",
    "\"\"\"\n",
    "Program to ask the name, temperature, and rainfall of a place and print it.\n",
    "\"\"\"\n",
    "\n",
    "# This is a variable to save the place\n",
    "place = input(\"Enter the name of the place:\")\n",
    "\n",
    "# Rainfall variable\n",
    "rainfall = float(input(\"Enter the rainfall recorded today in mm:\"))\n",
    "\n",
    "# Temperature variable\n",
    "temperature = float(input(\"Enter the temperature recorded today in Celsius:\"))\n",
    "\n",
    "# Print statement\n",
    "print(\"In \", place, \" today it rained \", rainfall, \" mm  and the temperature is\", temperature, \" degree celsius\")\n",
    "```"
   ]
  },
  {
   "cell_type": "markdown",
   "metadata": {
    "slideshow": {
     "slide_type": "slide"
    }
   },
   "source": [
    "## Comments and Docstrings\n",
    "\n",
    "Comment - Lines that are ignored when the program is run. Used for excluding codes and for including messages.\n",
    "```python\n",
    "\n",
    "# This is a single line comment\n",
    "# Comment begins with a hash # symbol\n",
    "\n",
    "```\n",
    "Docstrings - Document strings. Multi-line comments. But more useful for including help/direction messages that appear when help utilities are called. In libraries, this is used as a documentation/help message for functions and classes.\n",
    "\n",
    "```python\n",
    "\"\"\"\n",
    "    This is a Docstring. It starts and ends with \n",
    "    triple \" or triple ' quotes. Mix and match does not work!\n",
    "\"\"\"\n",
    "\n",
    "'''\n",
    "    This is also a DocString\n",
    "'''\n",
    "```"
   ]
  },
  {
   "cell_type": "markdown",
   "metadata": {
    "slideshow": {
     "slide_type": "slide"
    }
   },
   "source": [
    "## Input Command\n",
    "\n",
    "Input command - Used for getting input from user to a variable."
   ]
  },
  {
   "cell_type": "markdown",
   "metadata": {
    "slideshow": {
     "slide_type": "fragment"
    }
   },
   "source": [
    "```python\n",
    "n = input('Enter the value for n') # String input (used to be dynamic input in python 2.x)\n",
    "n = float(input('Enter the value for n')) # Type casted input\n",
    "```\n",
    "\n",
    "* String input.\n",
    "* Type casting is used to control data types."
   ]
  },
  {
   "cell_type": "markdown",
   "metadata": {
    "slideshow": {
     "slide_type": "slide"
    }
   },
   "source": [
    "## What is a data type?\n",
    "Simply put, it is the nature of the information."
   ]
  },
  {
   "cell_type": "markdown",
   "metadata": {
    "slideshow": {
     "slide_type": "slide"
    }
   },
   "source": [
    "## Primary Data Types\n",
    "\n",
    "These are the primary data types available in python\n",
    "\n",
    "```python\n",
    "i = 1 # Integer. Stores integers\n",
    "r = 5.78 # Floats. Stores numbers with decimal parts.\n",
    "c = 'h' # Characters. Stores single characters. It is a string in python.\n",
    "s = 'Strings' # Strings. Stores a series of characters\n",
    "l = True/False # Logical. Stores binary values\n",
    "cm = 6.0+5.6j  # Complex. Stores complex values\n",
    "```"
   ]
  },
  {
   "cell_type": "markdown",
   "metadata": {
    "slideshow": {
     "slide_type": "slide"
    }
   },
   "source": [
    "## String Data type\n",
    "\n",
    "Strings are long chain of letters, numbers, symbols, and special characters. You can use both single and double quotes, but must end accordingly. Use slash to place quotes if needed.\n",
    "\n",
    "In python, there is no equivalent for ``char`` type.\n",
    "\n",
    "```python\n",
    "\"Hello\", \n",
    "'Hello', \n",
    "'My name is Arun', \n",
    "\"I asked, 'what is for lunch?'\"\n",
    "'I exclaimed, \"This tree is big!\"'\n",
    "\"I used slash \\\" to type a double quote symbol\"\n",
    "```"
   ]
  },
  {
   "cell_type": "markdown",
   "metadata": {
    "slideshow": {
     "slide_type": "slide"
    }
   },
   "source": [
    "## Program to Test out different types of variables."
   ]
  },
  {
   "cell_type": "markdown",
   "metadata": {
    "slideshow": {
     "slide_type": "fragment"
    }
   },
   "source": [
    "### Code"
   ]
  },
  {
   "cell_type": "markdown",
   "metadata": {
    "slideshow": {
     "slide_type": "fragment"
    }
   },
   "source": [
    "```python\n",
    "a = 1.5     # Float/Real\n",
    "print(a, id(a), type(a))\n",
    "a = \"hello\" # String/Character\n",
    "print(a, id(a), type(a))\n",
    "a = 5       # Integer\n",
    "print(a, id(a), type(a))\n",
    "a = True    # Logical\n",
    "print(a, id(a), type(a))\n",
    "a = 6.0+7.8j    # Complex\n",
    "print(a, id(a), type(a))\n",
    "a = [7, 8.9, 10] # List\n",
    "print(a, id(a), type(a))\n",
    "a = (5.2, 4, 12) # Tuple\n",
    "print(a, id(a), type(a))\n",
    "a = {'v1': 6, 'v2' : 10} # Dictionary\n",
    "print(a, id(a), type(a))\n",
    "# Get the ASCII/unicode value of a character\n",
    "print(ord('z'))\n",
    "# Get the character for the ASCII/unicode\n",
    "print(chr(98))\n",
    "print(chr(32250))\n",
    "```"
   ]
  },
  {
   "cell_type": "markdown",
   "metadata": {
    "slideshow": {
     "slide_type": "subslide"
    }
   },
   "source": [
    "### Output"
   ]
  },
  {
   "cell_type": "markdown",
   "metadata": {
    "slideshow": {
     "slide_type": "fragment"
    }
   },
   "source": [
    "```\n",
    "1.5 140048331680624 <class 'float'>\n",
    "hello 140048284573232 <class 'str'>\n",
    "5 140048501217856 <class 'int'>\n",
    "True 140048500811040 <class 'bool'>\n",
    "(6+7.8j) 140048284294832 <class 'complex'>\n",
    "[7, 8.9, 10] 140048284073544 <class 'list'>\n",
    "(5.2, 4, 12) 140048284133416 <class 'tuple'>\n",
    "{'v1': 6, 'v2': 10} 140048284066872 <class 'dict'>\n",
    "122\n",
    "b\n",
    "緺\n",
    "```"
   ]
  },
  {
   "cell_type": "markdown",
   "metadata": {
    "slideshow": {
     "slide_type": "slide"
    }
   },
   "source": [
    "## Some simple data-functions"
   ]
  },
  {
   "cell_type": "markdown",
   "metadata": {
    "slideshow": {
     "slide_type": "fragment"
    }
   },
   "source": [
    "* ``id()`` : returns the memory location ID of the variable.\n",
    "* ``type()`` - returns the datatype of the variable.\n",
    "* ``ord()`` - returns the ASCII/Unicode value of the symbol.\n",
    "* ``chr()`` - returns the symbol of the ASCII/Unicode value."
   ]
  },
  {
   "cell_type": "markdown",
   "metadata": {
    "slideshow": {
     "slide_type": "slide"
    }
   },
   "source": [
    "## Operators\n",
    "\n",
    "```python\n",
    "a + b                  # Addition\n",
    "a - b                  # Subtraction\n",
    "a * b                  # Multiplication\n",
    "a / b                  # Division\n",
    "a += b # a = a+b       # Increment addition\n",
    "a *= b # -=, /= exists # Increment multiplication\n",
    "a ** b                 # Exponent\n",
    "()                     # Parenthesis\n",
    "a % b                  # Modulo Operation\n",
    "<\t                   # strictly less than\t \n",
    "<=\t                   # less than or equal\t \n",
    ">\t                   # strictly greater than\t \n",
    ">=\t                   # greater than or equal\t \n",
    "==\t                   # equal\t \n",
    "!=\t                   # not equal\n",
    "or, and, not           # Logical Operators\n",
    "is, is not             # Identity Operators\n",
    "in, not in             # Membership Operators\n",
    "```\n",
    "There are many more! Remember UPEMDAS REL LOG"
   ]
  },
  {
   "cell_type": "markdown",
   "metadata": {
    "slideshow": {
     "slide_type": "subslide"
    }
   },
   "source": [
    "## Basic Arithmetic Operations in Python\n",
    "\n",
    "| Operator \t|      Name      \t|  Operation \t| Example \t| Result \t|               Remark              \t|\n",
    "|:--------:\t|:--------------:\t|:----------:\t|:-------:\t|:------:\t|:---------------------------------:\t|\n",
    "|     +    \t|    Addition    \t|  ``a + b`` \t|  5 + 6  \t|   11   \t|          Normal Addition          \t|\n",
    "|     -    \t|   Subtraction  \t|  ``a - b`` \t|  5 - 6  \t|   -1   \t|         Normal Subtraction        \t|\n",
    "|     *    \t| Multiplication \t|  ``a * b`` \t|  5 * 6  \t|   30   \t|       Normal Multiplication       \t|\n",
    "|     /    \t|    Division    \t|  ``a / b`` \t|  6 / 4  \t|   1.5  \t|          Normal Division          \t|\n",
    "|    //    \t| Floor Division \t| ``a // b`` \t|  15 // 4 \t|    3   \t|  Division + removes decimal part  \t|\n",
    "|     %    \t|     Modulus    \t|  ``a % b`` \t|  22 % 4 \t|    2   \t| Returns the Remainder of Division \t|\n",
    "|    **    \t| Exponentiation \t| ``a ** b`` \t|  2 ** 4 \t|   16   \t|     Same as ``2*2*2*2``. Exponent     |\n"
   ]
  },
  {
   "cell_type": "markdown",
   "metadata": {
    "slideshow": {
     "slide_type": "slide"
    }
   },
   "source": [
    "## Program to test all Basic Operations"
   ]
  },
  {
   "cell_type": "code",
   "execution_count": 27,
   "metadata": {
    "ExecuteTime": {
     "end_time": "2019-10-19T18:05:37.837718Z",
     "start_time": "2019-10-19T18:05:37.699888Z"
    },
    "slideshow": {
     "slide_type": "fragment"
    }
   },
   "outputs": [
    {
     "name": "stdout",
     "output_type": "stream",
     "text": [
      "a =  11  and b =  2\n",
      "a + b =  13\n",
      "a - b =  9\n",
      "a * b =  22\n",
      "a / b =  5.5\n",
      "a // b =  5\n",
      "a % b =  1\n",
      "a ** b =  121\n"
     ]
    }
   ],
   "source": [
    "a = 11\n",
    "b = 2\n",
    "\n",
    "print(\"a = \", a, \" and b = \", b)\n",
    "\n",
    "# Addition\n",
    "print(\"a + b = \", a + b)\n",
    "# Subtraction\n",
    "print(\"a - b = \", a - b)\n",
    "# Multiplication\n",
    "print(\"a * b = \", a * b)\n",
    "# Division\n",
    "print(\"a / b = \", a / b)\n",
    "# Floor Division\n",
    "print(\"a // b = \", a // b)\n",
    "# Modulus\n",
    "print(\"a % b = \", a % b)\n",
    "# Exponentiation\n",
    "print(\"a ** b = \", a ** b)"
   ]
  },
  {
   "cell_type": "markdown",
   "metadata": {
    "slideshow": {
     "slide_type": "slide"
    }
   },
   "source": [
    "## Area of a Triangle using Heron's Formula\n",
    "\n",
    "The area $\\Delta$ of a triangle whose sides $a$, $b$, and $c$ is given as:\n",
    "\n",
    "$$ \\Delta = \\sqrt{s(s-a)(s-b)(s-c)}$$\n",
    "\n",
    "Where $$ s = \\frac{a + b + c}{2}$$ is the semi-perimeter of the triangle."
   ]
  },
  {
   "cell_type": "markdown",
   "metadata": {
    "slideshow": {
     "slide_type": "slide"
    }
   },
   "source": [
    "## Code\n",
    "\n",
    "```python\n",
    "# Get the sides of the triangle\n",
    "a = float(\"Enter side 'a' of the triangle:\")\n",
    "b = float(\"Enter side 'b' of the triangle:\")\n",
    "c = float(\"Enter side 'c' of the triangle:\")\n",
    "\n",
    "# Calculate the perimeter\n",
    "p = (a + b + c)\n",
    "\n",
    "# Calculate the semi-perimeter\n",
    "s = p*0.5\n",
    "\n",
    "# Calculate the area\n",
    "Area = (s*(s-a)*(s-b)*(s-c))**0.5\n",
    "\n",
    "# Display the result\n",
    "print(f\"The area of the triangle with sides {a}, {b}, and {c} is {Area} sq. units\")\n",
    "\n",
    "```"
   ]
  },
  {
   "cell_type": "markdown",
   "metadata": {
    "slideshow": {
     "slide_type": "slide"
    }
   },
   "source": [
    "## Lists\n",
    "---\n",
    "\n",
    "__Mutable__, multi-datatype arrays. Can be single levelled or multi-levelled. Enclosed by [].\n",
    "\n",
    "```python\n",
    "x = [1, 3, 5, 7, 8]\n",
    "y = [1.5, 5, 8.94, -5.78]\n",
    "z = [1, 'f', True, [6.45, \"six\"], False ]\n",
    "l = [ 1, 3.5, 'a', \"hello\", ['34', 3.14, [\"three\"], 4], 4.21 ]\n",
    "```\n",
    "\n",
    "They allow lists within lists. Indexing goes from 0."
   ]
  },
  {
   "cell_type": "code",
   "execution_count": 28,
   "metadata": {
    "ExecuteTime": {
     "end_time": "2019-10-19T18:05:37.977064Z",
     "start_time": "2019-10-19T18:05:37.840072Z"
    },
    "slideshow": {
     "slide_type": "slide"
    }
   },
   "outputs": [
    {
     "name": "stdout",
     "output_type": "stream",
     "text": [
      "x =  [1, 3, 5, 7, 8]\n",
      "y =  [1.5, 5, 8.94, -5.78]\n",
      "z =  [1, 'f', True, [6.45, 'six'], False]\n",
      "l =  [1, 3.5, 'a', 'hello', ['34', 3.14, ['three'], 4], 4.21]\n",
      "1\n",
      "8\n",
      "six\n",
      "three\n"
     ]
    }
   ],
   "source": [
    "x = [1, 3, 5, 7, 8]\n",
    "y = [1.5, 5, 8.94, -5.78]\n",
    "z = [1, 'f', True, [6.45, \"six\"], False]\n",
    "l = [1, 3.5, 'a', \"hello\", ['34', 3.14, [\"three\"], 4], 4.21]\n",
    "print(\"x = \", x)\n",
    "print(\"y = \", y)\n",
    "print(\"z = \", z)\n",
    "print(\"l = \", l)\n",
    "print(x[0])\n",
    "print(x[4])\n",
    "# print(y[4]) # This will throw an error: IndexError: list index out of range\n",
    "print(z[3][1])\n",
    "print(l[4][2][0])"
   ]
  },
  {
   "cell_type": "markdown",
   "metadata": {
    "slideshow": {
     "slide_type": "slide"
    }
   },
   "source": [
    "## Tuples\n"
   ]
  },
  {
   "cell_type": "markdown",
   "metadata": {
    "slideshow": {
     "slide_type": "fragment"
    }
   },
   "source": [
    "Immutable, multi-datatype arrays. Can be single levelled or multi-levelled. Enclosed by ().\n",
    "\n",
    "```python\n",
    "x = (1, 3, 5, 7, 8)\n",
    "y = (1.5, 5, 8.94, -5.78)\n",
    "z = (1, 'f', True, (6.45, \"six\"), False )\n",
    "l = ( 1, 3.5, 'a', \"hello\", ('34', 3.14, (\"three\"), 4), 4.21 )\n",
    "```\n",
    "\n",
    "They allow tuples within tuples. Indexing goes from 0."
   ]
  },
  {
   "cell_type": "code",
   "execution_count": 29,
   "metadata": {
    "ExecuteTime": {
     "end_time": "2019-10-19T18:05:38.151574Z",
     "start_time": "2019-10-19T18:05:37.979651Z"
    },
    "slideshow": {
     "slide_type": "slide"
    }
   },
   "outputs": [
    {
     "name": "stdout",
     "output_type": "stream",
     "text": [
      "x =  (1, 3, 5, 7, 8)\n",
      "y =  (1.5, 5, 8.94, -5.78)\n",
      "z =  (1, 'f', True, (6.45, 'six'), False)\n",
      "l =  (1, 3.5, 'a', 'hello', ('34', 3.14, 'three', 4), 4.21)\n",
      "1\n",
      "8\n",
      "six\n",
      "three\n"
     ]
    }
   ],
   "source": [
    "x = (1, 3, 5, 7, 8)\n",
    "y = (1.5, 5, 8.94, -5.78)\n",
    "z = (1, 'f', True, (6.45, \"six\"), False)\n",
    "l = (1, 3.5, 'a', \"hello\", ('34', 3.14, (\"three\"), 4), 4.21)\n",
    "print(\"x = \", x)\n",
    "print(\"y = \", y)\n",
    "print(\"z = \", z)\n",
    "print(\"l = \", l)\n",
    "print(x[0])\n",
    "print(x[4])\n",
    "# print(y[4] # This will throw an error: IndexError: tuple index out of range\n",
    "print(z[3][1])\n",
    "print(l[4][2])"
   ]
  },
  {
   "cell_type": "markdown",
   "metadata": {
    "slideshow": {
     "slide_type": "slide"
    }
   },
   "source": [
    "## Mutation\n",
    "\n",
    "Since variables are objects in python, sometimes, multiple variables point to the same memory location. Sometimes, certain memory modifications done to one variable replicates in others (Mutable). Sometimes they do not (Immutable)."
   ]
  },
  {
   "cell_type": "code",
   "execution_count": 30,
   "metadata": {
    "ExecuteTime": {
     "end_time": "2019-10-19T18:05:38.436111Z",
     "start_time": "2019-10-19T18:05:38.155853Z"
    },
    "slideshow": {
     "slide_type": "fragment"
    }
   },
   "outputs": [
    {
     "name": "stdout",
     "output_type": "stream",
     "text": [
      "[4.5, 6.7, 1] [4.5, 6.7, 1]\n",
      "(4.5, 6.7) (4.5, 6.7)\n"
     ]
    }
   ],
   "source": [
    "x = [4.5, 6.7]\n",
    "y = x\n",
    "x.append(1)\n",
    "print(x, y)\n",
    "\n",
    "x = (4.5, 6.7)\n",
    "y = x\n",
    "# x.append(1) # Produces an error: tuple' object has no attribute 'append'\n",
    "print(x, y)"
   ]
  },
  {
   "cell_type": "markdown",
   "metadata": {
    "slideshow": {
     "slide_type": "slide"
    }
   },
   "source": [
    "## Exception\n",
    "\n",
    "However, switching data and mutation do not cause any issue."
   ]
  },
  {
   "cell_type": "code",
   "execution_count": 31,
   "metadata": {
    "ExecuteTime": {
     "end_time": "2019-10-19T18:05:38.807516Z",
     "start_time": "2019-10-19T18:05:38.439010Z"
    },
    "slideshow": {
     "slide_type": "fragment"
    }
   },
   "outputs": [
    {
     "name": "stdout",
     "output_type": "stream",
     "text": [
      "[7.8, 9.6] [4.5, 6.7]\n",
      "(7.8, 9.6) (4.5, 6.7)\n"
     ]
    }
   ],
   "source": [
    "x = [4.5, 6.7]\n",
    "y = x\n",
    "x = [7.8, 9.6]\n",
    "print(x, y)\n",
    "\n",
    "x = (4.5, 6.7)\n",
    "y = x\n",
    "x = (7.8, 9.6)\n",
    "print(x, y)"
   ]
  },
  {
   "cell_type": "markdown",
   "metadata": {
    "ExecuteTime": {
     "end_time": "2019-10-16T20:12:18.720084Z",
     "start_time": "2019-10-16T20:12:18.715338Z"
    },
    "slideshow": {
     "slide_type": "fragment"
    }
   },
   "source": [
    "Still, there is a problem with list and tuples. They are heterogeneous data arrays. We need homogeneous data arrays for scientific calculations. That is where **numpy arrays** come in handy."
   ]
  },
  {
   "cell_type": "markdown",
   "metadata": {
    "slideshow": {
     "slide_type": "slide"
    }
   },
   "source": [
    "## Dictionary\n",
    "\n",
    "A composite collection of different primary and derived data types. \n",
    "\n",
    "**Imagine a wallet/bag having several items as an example.** Has keys and corresponding values. Keys are the names/identifiers while values are the data. (Lists, tuples, arrays, integers, floats etc.,). Used for consolidating data into files."
   ]
  },
  {
   "cell_type": "code",
   "execution_count": 32,
   "metadata": {
    "ExecuteTime": {
     "end_time": "2019-10-19T18:05:39.058545Z",
     "start_time": "2019-10-19T18:05:38.810270Z"
    },
    "slideshow": {
     "slide_type": "fragment"
    }
   },
   "outputs": [
    {
     "name": "stdout",
     "output_type": "stream",
     "text": [
      "{'v1': 6, 'v2': 10, 'lst': [5.8, 'hello']}\n",
      "6\n",
      "[5.8, 'hello']\n",
      "hello\n"
     ]
    }
   ],
   "source": [
    "a = {'v1': 6, 'v2': 10, 'lst':\n",
    "     [5.8, \"hello\"]}\n",
    "print(a)\n",
    "print(a['v1'])\n",
    "print(a['lst'])\n",
    "print(a['lst'][1])"
   ]
  },
  {
   "cell_type": "markdown",
   "metadata": {
    "slideshow": {
     "slide_type": "slide"
    }
   },
   "source": [
    "## Type Casting\n",
    "\n",
    "Used for data conversion. Also used to avoid mutation. It is also used to restrict the kind of data used."
   ]
  },
  {
   "cell_type": "code",
   "execution_count": 33,
   "metadata": {
    "ExecuteTime": {
     "end_time": "2019-10-19T18:05:39.219005Z",
     "start_time": "2019-10-19T18:05:39.061548Z"
    },
    "slideshow": {
     "slide_type": "fragment"
    }
   },
   "outputs": [
    {
     "name": "stdout",
     "output_type": "stream",
     "text": [
      "5 <class 'int'>\n",
      "5.0 <class 'float'>\n",
      "\u0005 <class 'str'>\n",
      "5 <class 'str'>\n",
      "True <class 'bool'>\n",
      "[5, 7.9, 3.4] <class 'list'>\n",
      "(5, 7.9, 3.4) <class 'tuple'>\n",
      "[5.  7.9 3.4] <class 'numpy.ndarray'>\n"
     ]
    }
   ],
   "source": [
    "import numpy as np\n",
    "a = 5\n",
    "b = [5, 7.9, 3.4]\n",
    "print(int(a), type(int(a)))\n",
    "print(float(a), type(float(a)))\n",
    "print(chr(a), type(chr(a)))\n",
    "print(str(a), type(str(a)))\n",
    "print(bool(a), type(bool(a)))\n",
    "print(list(b), type(list(b)))\n",
    "print(tuple(b), type(tuple(b)))\n",
    "print(np.array(b), type(np.array(b)))"
   ]
  },
  {
   "cell_type": "markdown",
   "metadata": {
    "slideshow": {
     "slide_type": "slide"
    }
   },
   "source": [
    "## Numpy Arrays\n",
    "\n",
    "Comes from a module numpy. Homogeneous data type array. Automatically assumes data type. But can be manually set too. Needs numpy module. Inputs can be lists or tuples.\n",
    "\n",
    "Use **dtype** inside **np.array** to set the data type manually.\n",
    "\n",
    "```python\n",
    "a = np.array(l, dtype=np.float32)\n",
    "```"
   ]
  },
  {
   "cell_type": "code",
   "execution_count": 34,
   "metadata": {
    "ExecuteTime": {
     "end_time": "2019-10-19T18:05:39.363636Z",
     "start_time": "2019-10-19T18:05:39.221636Z"
    },
    "slideshow": {
     "slide_type": "fragment"
    }
   },
   "outputs": [
    {
     "name": "stdout",
     "output_type": "stream",
     "text": [
      "<class 'list'>\n",
      "<class 'tuple'>\n",
      "<class 'numpy.ndarray'>\n",
      "<class 'numpy.ndarray'>\n",
      "int64\n",
      "float64\n"
     ]
    }
   ],
   "source": [
    "import numpy as np\n",
    "l = [5, 7, 9]\n",
    "t = (5, 7, 9.7)\n",
    "a = np.array(l)\n",
    "b = np.array(t)\n",
    "print(type(l))\n",
    "print(type(t))\n",
    "print(type(a))\n",
    "print(type(b))\n",
    "print(np.dtype(a[2]))\n",
    "print(np.dtype(b[1]))"
   ]
  },
  {
   "cell_type": "markdown",
   "metadata": {
    "slideshow": {
     "slide_type": "slide"
    }
   },
   "source": [
    "## For Loops"
   ]
  },
  {
   "cell_type": "code",
   "execution_count": 35,
   "metadata": {
    "ExecuteTime": {
     "end_time": "2019-10-19T18:05:39.477656Z",
     "start_time": "2019-10-19T18:05:39.366358Z"
    },
    "slideshow": {
     "slide_type": "fragment"
    }
   },
   "outputs": [
    {
     "name": "stdout",
     "output_type": "stream",
     "text": [
      "0\n",
      "2\n",
      "4\n",
      "6\n",
      "8\n",
      "10\n"
     ]
    }
   ],
   "source": [
    "for i in range(0, 11, 2):\n",
    "    print(i)\n",
    "# Note the indent! Break in indent means end out statements within loop.\n",
    "# range syntax: start, stop + 1 unit, step\n",
    "# range function delivers values from 0 to 10 in steps of 2\n",
    "# i takes one value in each iteration"
   ]
  },
  {
   "cell_type": "markdown",
   "metadata": {
    "slideshow": {
     "slide_type": "subslide"
    }
   },
   "source": [
    "## Nested For Loops"
   ]
  },
  {
   "cell_type": "code",
   "execution_count": 36,
   "metadata": {
    "ExecuteTime": {
     "end_time": "2019-10-19T18:05:39.734301Z",
     "start_time": "2019-10-19T18:05:39.479962Z"
    },
    "slideshow": {
     "slide_type": "fragment"
    }
   },
   "outputs": [
    {
     "name": "stdout",
     "output_type": "stream",
     "text": [
      "Val =  [1 2 3]\n",
      "1\n",
      "2\n",
      "3\n",
      "Val =  [4 5 6]\n",
      "4\n",
      "5\n",
      "6\n",
      "Val =  [7 8 9]\n",
      "7\n",
      "8\n",
      "9\n"
     ]
    }
   ],
   "source": [
    "# Nested loops (one within the other is possible) as shown below\n",
    "\n",
    "vp = np.array([[1, 2, 3], [4, 5, 6], [7, 8, 9]])\n",
    "\n",
    "for val in vp:\n",
    "    print(\"Val = \", val)\n",
    "    for num in val:\n",
    "        print(num)\n",
    "        # continue # to go to next iteration\n",
    "        # break # to break the loop"
   ]
  },
  {
   "cell_type": "markdown",
   "metadata": {
    "slideshow": {
     "slide_type": "slide"
    }
   },
   "source": [
    "## While Loops"
   ]
  },
  {
   "cell_type": "code",
   "execution_count": 37,
   "metadata": {
    "ExecuteTime": {
     "end_time": "2019-10-19T18:05:40.243569Z",
     "start_time": "2019-10-19T18:05:39.736440Z"
    },
    "slideshow": {
     "slide_type": "fragment"
    }
   },
   "outputs": [
    {
     "name": "stdout",
     "output_type": "stream",
     "text": [
      "0\n",
      "1\n",
      "2\n",
      "3\n",
      "4\n",
      "5\n",
      "6\n",
      "7\n",
      "8\n",
      "9\n",
      "10\n"
     ]
    }
   ],
   "source": [
    "i = 0  # Initialization has to be done for while loop\n",
    "while i in range(0, 11):\n",
    "    print(i)\n",
    "    i += 1  # If not, then the loop will run infinitely"
   ]
  },
  {
   "cell_type": "markdown",
   "metadata": {
    "ExecuteTime": {
     "end_time": "2019-10-16T20:49:14.499940Z",
     "start_time": "2019-10-16T20:49:14.497378Z"
    },
    "slideshow": {
     "slide_type": "slide"
    }
   },
   "source": [
    "## If Clause"
   ]
  },
  {
   "cell_type": "code",
   "execution_count": 38,
   "metadata": {
    "ExecuteTime": {
     "end_time": "2019-10-19T18:05:42.588568Z",
     "start_time": "2019-10-19T18:05:40.247262Z"
    },
    "slideshow": {
     "slide_type": "fragment"
    }
   },
   "outputs": [
    {
     "name": "stdout",
     "output_type": "stream",
     "text": [
      "Enter a value for n:5\n",
      "Execution at else\n",
      "The value of 5! = 120\n"
     ]
    }
   ],
   "source": [
    "# Program to find the factorial of an interger\n",
    "\n",
    "f = 1\n",
    "n = int(input(\"Enter a value for n:\"))\n",
    "if isinstance(n, int):  # Checks whether the value is integer or not\n",
    "    if n is (1 or 0):\n",
    "        print(\"Execution at if\")\n",
    "        print(\"The value of {}! = {}\".format(n, f))\n",
    "        exit\n",
    "    elif n < 0:\n",
    "        print(\"Execution at elif\")\n",
    "        print(\"n is negative!\")\n",
    "    else:\n",
    "        print(\"Execution at else\")\n",
    "        for i in range(2, n+1):\n",
    "            f *= i\n",
    "        print(\"The value of {}! = {}\".format(n, f))\n",
    "else:\n",
    "    print(\"Factorial does not exist\")"
   ]
  },
  {
   "cell_type": "markdown",
   "metadata": {
    "slideshow": {
     "slide_type": "slide"
    }
   },
   "source": [
    "## Functions\n",
    "\n",
    "Functions are data type independent. The data type issues come only when the code has a mis-match.\n",
    "If you have a code that is data type independent, then functions can work very easily."
   ]
  },
  {
   "cell_type": "code",
   "execution_count": 39,
   "metadata": {
    "ExecuteTime": {
     "end_time": "2019-10-19T18:05:43.749254Z",
     "start_time": "2019-10-19T18:05:42.591619Z"
    },
    "slideshow": {
     "slide_type": "slide"
    }
   },
   "outputs": [
    {
     "name": "stdout",
     "output_type": "stream",
     "text": [
      "Enter a value for n:5\n",
      "Execution at else\n",
      "The value of 5! = 120\n",
      "120\n"
     ]
    }
   ],
   "source": [
    "def fact(n):\n",
    "    f = 1  # This is a local variable. Accessible only inside the function\n",
    "    if isinstance(n, int):  # Checks whether the value is integer or not\n",
    "        if n is (1 or 0):\n",
    "            print(\"Execution at if\")\n",
    "            print(\"The value of {}! = {}\".format(n, f))\n",
    "            exit\n",
    "        elif n < 0:\n",
    "            f = 0\n",
    "            print(\"Execution at elif\")\n",
    "            print(\"n is negative!\")\n",
    "        else:\n",
    "            print(\"Execution at else\")\n",
    "            for i in range(2, n+1):\n",
    "                f *= i\n",
    "            print(\"The value of {}! = {}\".format(n, f))\n",
    "    else:\n",
    "        f = 0\n",
    "        print(\"Factorial does not exist\")\n",
    "    return f\n",
    "\n",
    "\n",
    "n = int(input(\"Enter a value for n:\"))\n",
    "f = fact(n)\n",
    "print(f)"
   ]
  },
  {
   "cell_type": "markdown",
   "metadata": {
    "collapsed": true,
    "slideshow": {
     "slide_type": "slide"
    }
   },
   "source": [
    "## Slicing\n",
    "\n",
    "Convenient and Efficient way for handling arrays."
   ]
  },
  {
   "cell_type": "code",
   "execution_count": 40,
   "metadata": {
    "ExecuteTime": {
     "end_time": "2019-10-19T18:05:43.761411Z",
     "start_time": "2019-10-19T18:05:43.753357Z"
    },
    "scrolled": true,
    "slideshow": {
     "slide_type": "fragment"
    }
   },
   "outputs": [
    {
     "name": "stdout",
     "output_type": "stream",
     "text": [
      "[0, 1, 2, 3, 4, 5, 6, 7, 8, 9, 10]\n",
      "7\n",
      "[0, 1, 2, 3, 4, 5, 6, 7, 8, 9, 10]\n",
      "[6, 7, 8, 9]\n",
      "[0, 1, 2, 3]\n",
      "[5, 6, 7, 8, 9, 10]\n",
      "[0, 1, 2, 3, 4, 5, 6]\n"
     ]
    }
   ],
   "source": [
    "a = [0, 1, 2, 3, 4, 5, 6, 7, 8, 9, 10]\n",
    "print(a)           # Prints all entries\n",
    "print(a[7])        # Prints only the 7th entry\n",
    "print(a[:])        # Prints all entries\n",
    "print(a[6:10])     # Prints 6th to 9th entry\n",
    "print(a[0:4])      # Prints 0th to 3rd entry\n",
    "print(a[5:])       # Prints 5th entry till last\n",
    "print(a[:7])       # Prints all entries from start till 7th entry"
   ]
  },
  {
   "cell_type": "markdown",
   "metadata": {
    "slideshow": {
     "slide_type": "fragment"
    }
   },
   "source": [
    "__Note__ : Negative Entries also exist! You can check it out!"
   ]
  },
  {
   "cell_type": "markdown",
   "metadata": {
    "slideshow": {
     "slide_type": "subslide"
    }
   },
   "source": [
    "## Modules"
   ]
  },
  {
   "cell_type": "markdown",
   "metadata": {
    "slideshow": {
     "slide_type": "fragment"
    }
   },
   "source": [
    "Collection of files having functions, objects and classes. Each Module has it's own set of functions.\n",
    "eg: Numpy, scipy, matplotlib, os, netcdf4 etc.,"
   ]
  },
  {
   "cell_type": "markdown",
   "metadata": {
    "slideshow": {
     "slide_type": "fragment"
    }
   },
   "source": [
    "## Including them in the files/functions\n",
    "---\n",
    "```python\n",
    "import numpy\n",
    "# This imports the entire module\n",
    "from numpy import *\n",
    "# Same as above\n",
    "from matplotlib import pyplot\n",
    "# Used for including specific functions/objects/classes\n",
    "import numpy as np\n",
    "# This imports the module with alternate name for convenience\n",
    "import matplotlib.pyplot as plt\n",
    "# This imports specific function with an alternate name\n",
    "from matplotlib import pyplot as plt\n",
    "# Same as above\n",
    "```"
   ]
  },
  {
   "cell_type": "markdown",
   "metadata": {
    "slideshow": {
     "slide_type": "subslide"
    }
   },
   "source": [
    "## Fibonacci Series\n",
    "\n",
    "Find the first $n$ Fibonacci numbers.In a Fibonacci series/sequence, if $F_n$ is the $n^{th}$ term of the series, (provided $n \\ge 2$) then it can be given in terms of the previous 2 terms, $F_{n-1}$ and $F_{n-2}$ by the recurrence relation,\n",
    "$$ F_n = F_{n-1} + F_{n-2}$$\n",
    "Find all the values till 15th term ($F_{15}$), save them and print them using loops. Take $F_0$ = 0 and $F_1$ = 1. __Use numpy arrays. Set the data type to be int8. Do you notice anything strange? Set the data type to be int16 and repeat. Do you notice anything strange?__ If yes/no, can you guess what could be the reason?"
   ]
  },
  {
   "cell_type": "code",
   "execution_count": 41,
   "metadata": {
    "ExecuteTime": {
     "end_time": "2019-10-19T18:05:47.811112Z",
     "start_time": "2019-10-19T18:05:43.763265Z"
    },
    "slideshow": {
     "slide_type": "skip"
    }
   },
   "outputs": [
    {
     "name": "stdout",
     "output_type": "stream",
     "text": [
      "Enter the number of terms in the series:12\n",
      "The fibonacci series upto 12 term(s) is(are): [ 0  1  1  2  3  5  8 13 21 34 55 89]\n"
     ]
    },
    {
     "data": {
      "image/png": "[encoded data removed]",
      "text/plain": [
       "<Figure size 432x288 with 1 Axes>"
      ]
     },
     "metadata": {
      "needs_background": "light"
     },
     "output_type": "display_data"
    }
   ],
   "source": [
    "# import functions and libraries of your choice\n",
    "import numpy as np\n",
    "import matplotlib.pyplot as plt\n",
    "\n",
    "# ask for user input\n",
    "n = int(input(\"Enter the number of terms in the series:\"))\n",
    "\n",
    "# create a static array to store the sequence values\n",
    "# f = np.zeros(n, dtype=np.int8)\n",
    "f = np.zeros(n, dtype=np.int16)\n",
    "\n",
    "# Usual method\n",
    "# f[1] = 1\n",
    "# for i in range(2, n+1):\n",
    "#     f[i] = f[i-1] + f[i-2]\n",
    "\n",
    "# A Pythonic implementation\n",
    "a = 0\n",
    "b = 1\n",
    "for i in range(1, n):\n",
    "    a, b = b, a + b  # Swap and Unpack\n",
    "    f[i] = a\n",
    "\n",
    "# Print them out\n",
    "print(\"The fibonacci series upto {} term(s) is(are):\".format(n), f)\n",
    "\n",
    "plt.figure()\n",
    "plt.plot(f, color='r', marker='*', label='fibonacci numbers')\n",
    "plt.grid()\n",
    "plt.legend()\n",
    "plt.title('Fibonacci numbers upto {} terms'.format(n))\n",
    "plt.savefig('images/fib_numbers.png', format='png',\n",
    "            dpi=400, bbox_toinches='tight')\n",
    "plt.show()"
   ]
  },
  {
   "cell_type": "markdown",
   "metadata": {
    "slideshow": {
     "slide_type": "slide"
    }
   },
   "source": [
    "## Collatz Conjecture\n",
    "\n",
    "* Get a **positive integer** input from the user\n",
    "* Recursively do the following steps till the number reaches 1.\n",
    "    * If the number is even, then divide it by 2\n",
    "    * If the number is odd, then multiply it by 3 and add 1\n",
    "* Keep track of the number of iterations and the value of the number in each iteration\n",
    "* **Does this procedure work for _all_ positive integers?**\n",
    "* Plot the numbers in each iteration and save the plot as a **\\*.png** image"
   ]
  },
  {
   "cell_type": "code",
   "execution_count": 42,
   "metadata": {
    "ExecuteTime": {
     "end_time": "2019-10-19T18:05:50.497978Z",
     "start_time": "2019-10-19T18:05:47.814267Z"
    },
    "slideshow": {
     "slide_type": "skip"
    }
   },
   "outputs": [
    {
     "name": "stdout",
     "output_type": "stream",
     "text": [
      "Enter positive integer 1 for the test:5\n",
      "[5, 16, 8, 4, 2, 1]\n"
     ]
    },
    {
     "data": {
      "image/png": "[encoded data removed]",
      "text/plain": [
       "<Figure size 432x288 with 1 Axes>"
      ]
     },
     "metadata": {
      "needs_background": "light"
     },
     "output_type": "display_data"
    }
   ],
   "source": [
    "from matplotlib import pyplot as plt\n",
    "\n",
    "\n",
    "def odd(number):\n",
    "\n",
    "    if(number % 2 == 1):\n",
    "        return True\n",
    "    else:\n",
    "        return False\n",
    "\n",
    "\n",
    "def collatz(num_in):\n",
    "\n",
    "    i = 0\n",
    "    temp = num_in\n",
    "    seq = [num_in]\n",
    "\n",
    "    while(temp != 1):\n",
    "\n",
    "        if(odd(temp)):\n",
    "            temp = 3*temp + 1\n",
    "        else:\n",
    "            temp = temp // 2\n",
    "\n",
    "        seq.append(temp)\n",
    "        i += 1\n",
    "\n",
    "    return i, seq\n",
    "\n",
    "\n",
    "In1 = int(input(\"Enter positive integer 1 for the test:\"))\n",
    "iters1, sequence1 = collatz(In1)\n",
    "print(sequence1)\n",
    "\n",
    "plt.figure()\n",
    "plt.plot(sequence1, color='r', marker='*',\n",
    "         label='Num = {}, Iters = {}'.format(In1, iters1))\n",
    "plt.grid()\n",
    "plt.title(\"Collatz Conjecture Sequence Evolution for some input numbers\")\n",
    "plt.legend()\n",
    "plt.savefig(\"conjecture.png\", format='png', dpi=400, bbox_toinches='tight')\n",
    "plt.show()"
   ]
  },
  {
   "cell_type": "markdown",
   "metadata": {
    "slideshow": {
     "slide_type": "slide"
    }
   },
   "source": [
    "## Pascal's Triangle\n",
    "\n",
    "<img src=\"images/Pascal_triangle.svg\" alt=\"IISc Logo\" height=\"600\" width=\"600\">\n",
    "\n",
    "Attribution to: Kazukiokumura [<a href=\"https://creativecommons.org/licenses/by-sa/3.0\">CC BY-SA 3.0</a>], <a href=\"https://commons.wikimedia.org/wiki/File:Pascal_triangle.svg\">via Wikimedia Commons</a>"
   ]
  },
  {
   "cell_type": "markdown",
   "metadata": {
    "slideshow": {
     "slide_type": "slide"
    }
   },
   "source": [
    "### Idea behind Pascal's triangle\n",
    "\n",
    "* Row number = number of elements.\n",
    "* Each element in the row is nCk.\n",
    "* The nC(k+1) term is nC(k+1)(n + 1 - k)/(k)\n",
    "\n",
    "Hint: Check this out from nCk formulation."
   ]
  },
  {
   "cell_type": "code",
   "execution_count": 43,
   "metadata": {
    "ExecuteTime": {
     "end_time": "2019-10-19T18:06:07.497619Z",
     "start_time": "2019-10-19T18:05:50.500414Z"
    },
    "slideshow": {
     "slide_type": "skip"
    }
   },
   "outputs": [
    {
     "name": "stdout",
     "output_type": "stream",
     "text": [
      "Enter the number of rows in the pascal triangle:5\n",
      "The Pascal Triangle with 5 rows is:\n",
      "[1]\n",
      "[1, 1]\n",
      "[1, 2, 1]\n",
      "[1, 3, 3, 1]\n",
      "[1, 4, 6, 4, 1]\n"
     ]
    }
   ],
   "source": [
    "def pascal(n):\n",
    "\n",
    "    for i in range(1, n+1, 1):\n",
    "\n",
    "        coeff = 1\n",
    "        vals = [coeff]\n",
    "        for j in range(1, i, 1):\n",
    "            coeff = coeff*(i - j)//j\n",
    "            vals.append(coeff)\n",
    "        print(vals)\n",
    "\n",
    "\n",
    "rows = int(input(\"Enter the number of rows in the pascal triangle:\"))\n",
    "print(f\"The Pascal Triangle with {rows} rows is:\")\n",
    "pascal(rows)"
   ]
  },
  {
   "cell_type": "markdown",
   "metadata": {
    "slideshow": {
     "slide_type": "slide"
    }
   },
   "source": [
    "## Finding Prime Numbers\n",
    "\n",
    "### Method 1: Generic Search\n",
    "* Add 2 to the list of prime numbers\n",
    "* Test for all odd numbers \"num\" between 3 and n.\n",
    "    * Set the upper bound of factors \"lim\" as \"num\"\n",
    "    * Try integer dividing \"num\" by \"factors\" form 3 to \"lim\"\n",
    "    * If there is a remainder = composite number\n",
    "    * No remainder in any case = Prime number\n",
    "* Update the prime number to the list.\n",
    "* Check for other prime numbers."
   ]
  },
  {
   "cell_type": "markdown",
   "metadata": {
    "slideshow": {
     "slide_type": "slide"
    }
   },
   "source": [
    "## Finding Prime Numbers\n",
    "\n",
    "### Method 2: AKS Primality test\n",
    "\n",
    "[Check this video by Numberphile](https://www.youtube.com/watch?v=HvMSRWTE2mI)\n",
    "\n",
    "* For each odd number \"num\" from 3 to n, find the pascal triangle coefficients corresponding to row \"num\".\n",
    "* For simplicity, keep a = 1 so that we need not worry about the last coefficient.\n",
    "* Try to divide all the coefficients (except first and last) by num\n",
    "    * If any of them gives a remainder - composite\n",
    "    * If all of them perfectly divides - prime"
   ]
  },
  {
   "cell_type": "markdown",
   "metadata": {
    "slideshow": {
     "slide_type": "slide"
    }
   },
   "source": [
    "## Finding Prime Numbers\n",
    "\n",
    "### Method 3: Sieve of Eratosthenes.\n",
    "\n",
    "[Check this Wikipedia Article](https://en.wikipedia.org/wiki/Sieve_of_Eratosthenes)\n",
    "\n",
    "* Create a list of integers between 2 and n.\n",
    "* Take the smallest prime number p between 2 and n.\n",
    "* Square p and check such that ``p*p`` is less than n.\n",
    "* Remove ``p*p`` and any number such that ``num = p*p + i*p`` where i = 1, 2, 3, ... All below n from the list.\n",
    "* Now take the next unremoved number and repeat steps 2 and 3.\n",
    "* Repeat step 4 till ``p*p`` goes above n.\n",
    "* All the numbers in the list that remains are prime numbers"
   ]
  },
  {
   "cell_type": "code",
   "execution_count": 44,
   "metadata": {
    "ExecuteTime": {
     "end_time": "2019-10-19T18:06:21.604161Z",
     "start_time": "2019-10-19T18:06:07.500759Z"
    },
    "hide_input": false,
    "slideshow": {
     "slide_type": "skip"
    }
   },
   "outputs": [
    {
     "name": "stdout",
     "output_type": "stream",
     "text": [
      "True\n",
      "True\n",
      "Generic method took 0.07147622108459473 second(s)\n",
      "while pascal aks implementation took 14.003929853439331 second(s)\n",
      "While Sieve of Erathones method took 0.0012524127960205078 second(s)\n"
     ]
    }
   ],
   "source": [
    "# Program to run three different prime number generating algorithms\n",
    "\n",
    "import numpy as np\n",
    "import time\n",
    "\n",
    "\n",
    "def listprimes01(n):\n",
    "    \"\"\"\n",
    "    This is the generalised method to find the prime numbers upto n.\n",
    "    \"\"\"\n",
    "\n",
    "    primes = [2]\n",
    "\n",
    "    for num in range(3, n, 2):\n",
    "\n",
    "        isPrime = True\n",
    "        lim = (num + 1)//2\n",
    "        # lim = int(np.sqrt(n))\n",
    "\n",
    "        for factor in range(3, lim):\n",
    "\n",
    "            if(num % factor == 0):\n",
    "                isPrime = False\n",
    "                break\n",
    "\n",
    "        if(isPrime):\n",
    "            # print(f\"number = {num}, prime = {isPrime}\")\n",
    "            primes.append(num)\n",
    "\n",
    "    return primes\n",
    "\n",
    "\n",
    "def pascal_coeff(p):\n",
    "    \"\"\"\n",
    "    This is the function to generate the pascal triangle coefficients for the crude AKS method.\n",
    "    \"\"\"\n",
    "\n",
    "    coeff = 1\n",
    "    vals = [coeff]\n",
    "    for j in range(1, p, 1):\n",
    "        coeff = coeff*(p - j)//j\n",
    "        vals.append(coeff)\n",
    "    return vals\n",
    "\n",
    "\n",
    "def listprimes02(n):\n",
    "    \"\"\"\n",
    "    This is the function to list prime numbers using a crude implementation of AKS primality test.\n",
    "    \"\"\"\n",
    "\n",
    "    primes = [2]\n",
    "    for num in range(3, n, 2):\n",
    "        isPrime = True\n",
    "        coeffs = pascal_coeff(num+1)[1:-1]\n",
    "\n",
    "        for coeff in coeffs:\n",
    "            if(coeff % num != 0):\n",
    "                isPrime = False\n",
    "                break\n",
    "\n",
    "        if(isPrime):\n",
    "            primes.append(num)\n",
    "\n",
    "    return primes\n",
    "\n",
    "\n",
    "def listprimes03(n):\n",
    "    \"\"\"\n",
    "    This is the function to list prime numbers using Sieve of Eratosthenes.\n",
    "\n",
    "    https://en.wikipedia.org/wiki/Sieve_of_Eratosthenes\n",
    "    \"\"\"\n",
    "\n",
    "    prime = [True for i in range(n+1)]\n",
    "    p = 2\n",
    "\n",
    "    primes = []\n",
    "\n",
    "    while (p * p <= n+1):\n",
    "        if prime[p]:\n",
    "            for i in range(p*p, n+1, p):\n",
    "                prime[i] = False\n",
    "\n",
    "        p += 1\n",
    "\n",
    "    for p in range(2, n+1):\n",
    "        if prime[p]:\n",
    "            primes.append(p)\n",
    "\n",
    "    return primes\n",
    "\n",
    "\n",
    "# max number of primes\n",
    "n = 5000\n",
    "\n",
    "start1 = time.time()\n",
    "primes1 = listprimes01(n)\n",
    "end1 = time.time()\n",
    "\n",
    "start2 = time.time()\n",
    "primes2 = listprimes02(n)\n",
    "end2 = time.time()\n",
    "\n",
    "start3 = time.time()\n",
    "primes3 = listprimes03(n)\n",
    "end3 = time.time()\n",
    "\n",
    "p1 = np.array(primes1)\n",
    "p2 = np.array(primes2)\n",
    "p3 = np.array(primes3)\n",
    "print(np.allclose(p1, p2))\n",
    "print(np.allclose(p1, p3))\n",
    "\n",
    "# print(p1)\n",
    "# print(p3)\n",
    "\n",
    "print(f\"Generic method took {end1 - start1} second(s)\")\n",
    "print(f\"while pascal aks implementation took {end2 - start2} second(s)\")\n",
    "print(f\"While Sieve of Erathones method took {end3 - start3} second(s)\")"
   ]
  },
  {
   "cell_type": "markdown",
   "metadata": {
    "slideshow": {
     "slide_type": "slide"
    }
   },
   "source": [
    "## Saving Data to Data files\n",
    "\n",
    "Simple ones:\n",
    "* Text data\n",
    "    * Tedious to format from scratch, especially if poorly formatted\n",
    "    * Messier for Arrays\n",
    "\n",
    "Easy to handle simple Formatted Data files options:\n",
    "* MATLAB formatted data file - \\*.mat\n",
    "* NumPy Vector files\n",
    "    * Single Array - \\*.npy\n",
    "    * Multiple Arrays - \\*.npz\n",
    "\n"
   ]
  },
  {
   "cell_type": "markdown",
   "metadata": {
    "slideshow": {
     "slide_type": "subslide"
    }
   },
   "source": [
    "## Saving Data to Data files\n",
    "\n",
    "Some alternative file formats:\n",
    "* JSON\n",
    "* CSV, spread sheet files\n",
    "* Binary files\n",
    "    * Need to know the data types and variable order - otherwise it is unusable\n",
    "\n",
    "One Non-Standard method:\n",
    "* Pickle data - Cluttered data\n",
    "\n",
    "Some advanced data file types:\n",
    "* HDF,\n",
    "* NetCDF"
   ]
  },
  {
   "cell_type": "markdown",
   "metadata": {
    "slideshow": {
     "slide_type": "skip"
    }
   },
   "source": [
    "```python\n",
    "# Demonstration of Data Files using *.mat files and *.npy, *.npz files\n",
    "\n",
    "import numpy as np\n",
    "import scipy.io as sio\n",
    "\n",
    "# -----------------------------------\n",
    "# Part 0 - Generation of random data\n",
    "# -----------------------------------\n",
    "\n",
    "x = [[1, 2, 3], [4.0, 5, 6], [7, 8, 9]]\n",
    "np_x = np.array(x) + 4.0\n",
    "np_y = 5.0*np_x\n",
    "\n",
    "# -----------------------------------\n",
    "# Part 1 - Usage of *.mat files\n",
    "# -----------------------------------\n",
    "\n",
    "# Creation of a dictionary for mat file\n",
    "\n",
    "data_mat = {}\n",
    "\n",
    "# File name for the mat file\n",
    "mat_fname = 'data_arrays.mat'\n",
    "\n",
    "# Adding data to the dictionary\n",
    "\n",
    "data_mat['x'] = x\n",
    "data_mat['np_x'] = np_x\n",
    "data_mat['np_y'] = np_y\n",
    "\n",
    "# for key in data_mat:\n",
    "#    print(key, data_mat[key], type(data_mat[key]))\n",
    "\n",
    "# Saving the dictionary\n",
    "\n",
    "sio.savemat(mat_fname, data_mat)\n",
    "\n",
    "# Open a the saved mat file using a new dictionary\n",
    "new_data_mat = sio.loadmat(mat_fname)\n",
    "\n",
    "# for key in new_data_mat:\n",
    "#    print(key, new_data_mat[key], type(new_data_mat[key]))\n",
    "\n",
    "# -----------------------------------\n",
    "# Part 2 - Usage of *.npy files\n",
    "# -----------------------------------\n",
    "\n",
    "# Storing the data in *.npy files\n",
    "np.save('array_x', x)\n",
    "np.save('np_array_x', np_x)\n",
    "np.save('np_array_y', np_y)\n",
    "\n",
    "# Opening the data in *.npy files\n",
    "new_x = np.load('array_x.npy')\n",
    "new_npx = np.load('np_array_x.npy')\n",
    "new_npy = np.load('np_array_y.npy')\n",
    "\n",
    "# print(new_x)\n",
    "# print(new_npx)\n",
    "# print(new_npy)\n",
    "\n",
    "# -----------------------------------\n",
    "# Part 3 - Usage of *.npz files\n",
    "# -----------------------------------\n",
    "\n",
    "# Storing the data in *.npy files\n",
    "np.savez('npz_demo', x=x, np_x=np_x, np_y=np_y)\n",
    "\n",
    "# Opening the data in *.npy files\n",
    "new_npz_dict = np.load('npz_demo.npz')\n",
    "\n",
    "for key in new_npz_dict:\n",
    "    print(key, new_npz_dict[key], type(new_npz_dict[key]))\n",
    "```"
   ]
  },
  {
   "cell_type": "markdown",
   "metadata": {
    "slideshow": {
     "slide_type": "slide"
    }
   },
   "source": [
    "## NumPy Matrices\n",
    "\n",
    "Python's own Matrix data type. This is similar to MATLAB matrices.\n",
    "\n",
    "To make NumPy Matrices, use ``np.matrix(array)``\n",
    "\n",
    "Matrix Multiplication\n",
    "\n",
    "```python\n",
    "np.mat(a1) * np.mat(a2) # Converting arrays into matrices and multiplying.\n",
    "np.dot(mat1,mat2)       # Dot matrix multiplication\n",
    "\n",
    "# Arrays:\n",
    "# * and np.multiply(A1, A2) for element-wise multiplication\n",
    "# np.dot(A1, A2) for matrix multiplication\n",
    "\n",
    "# Matrices:\n",
    "# * and np.dot(M1, M2) for matrix multiplication\n",
    "# np.multiply(M1, M2) for element-wise multiplication\n",
    "```\n",
    "\n",
    "For arrays, ``*`` means element wise multiplication. Use ``np.dot()`` for matrix multiplication.\n",
    "\n",
    "For matrix, ``*`` means matrix multiplication."
   ]
  },
  {
   "cell_type": "markdown",
   "metadata": {
    "slideshow": {
     "slide_type": "slide"
    }
   },
   "source": [
    "## Plotting and Data Visualization with Matplotlib\n",
    "\n",
    "Matplotlib is the defacto plotting library in Python.\n",
    "\n",
    "To import it, use\n",
    "\n",
    "```python\n",
    "import matplotlib.pyplot as plt\n",
    "```"
   ]
  },
  {
   "cell_type": "markdown",
   "metadata": {
    "slideshow": {
     "slide_type": "slide"
    }
   },
   "source": [
    "## Simple 1-D plot"
   ]
  },
  {
   "cell_type": "code",
   "execution_count": 45,
   "metadata": {
    "ExecuteTime": {
     "end_time": "2019-10-19T18:06:21.767826Z",
     "start_time": "2019-10-19T18:06:21.607628Z"
    },
    "slideshow": {
     "slide_type": "fragment"
    }
   },
   "outputs": [
    {
     "data": {
      "image/png": "[encoded data removed]",
      "text/plain": [
       "<Figure size 432x288 with 1 Axes>"
      ]
     },
     "metadata": {
      "needs_background": "light"
     },
     "output_type": "display_data"
    }
   ],
   "source": [
    "import numpy as np\n",
    "import matplotlib.pyplot as plt\n",
    "\n",
    "# Creates 101 evenly spaced points between 0 and 2pi.\n",
    "theta = np.linspace(0, 2.0*np.pi, 101)\n",
    "\n",
    "# sine function\n",
    "sine = np.sin(theta)\n",
    "# cosine function\n",
    "cosine = np.cos(theta)\n",
    "\n",
    "# Plot function\n",
    "plt.plot(theta, sine)\n",
    "\n",
    "# To show the plot\n",
    "plt.show()"
   ]
  },
  {
   "cell_type": "markdown",
   "metadata": {
    "slideshow": {
     "slide_type": "slide"
    }
   },
   "source": [
    "#### A friendly note to freshers\n",
    "\n",
    "I don't think your professor will be happy with such a _simple_ plot. Need to make it fancy!\n",
    "\n",
    "Proof: Ask your seniors, :D"
   ]
  },
  {
   "cell_type": "markdown",
   "metadata": {
    "slideshow": {
     "slide_type": "slide"
    }
   },
   "source": [
    "## Plot with full Embellishment"
   ]
  },
  {
   "cell_type": "code",
   "execution_count": 46,
   "metadata": {
    "ExecuteTime": {
     "end_time": "2019-10-19T18:06:22.250573Z",
     "start_time": "2019-10-19T18:06:21.769963Z"
    },
    "slideshow": {
     "slide_type": "fragment"
    }
   },
   "outputs": [
    {
     "data": {
      "image/png": "[encoded data removed]",
      "text/plain": [
       "<Figure size 432x288 with 1 Axes>"
      ]
     },
     "metadata": {
      "needs_background": "light"
     },
     "output_type": "display_data"
    }
   ],
   "source": [
    "# values for making ticks in x and y axis\n",
    "xnumbers = np.linspace(0, 7, 15)\n",
    "ynumbers = np.linspace(-1, 1, 11)\n",
    "\n",
    "plt.plot(theta, sine, color='r', label='sin') # r - red colour\n",
    "plt.xlabel(\"Angle in Radians\")\n",
    "plt.ylabel(\"Magnitude\")\n",
    "plt.title(\"Plot of some trigonometric functions\")\n",
    "plt.xticks(xnumbers)\n",
    "plt.yticks(ynumbers)\n",
    "plt.legend()\n",
    "plt.grid()\n",
    "plt.axis([0, 6.5, -1.1, 1.1]) # [xstart, xend, ystart, yend]\n",
    "plt.savefig(\"images/Full_SinePlot.jpg\", format=\"jpg\", dpi=400)"
   ]
  },
  {
   "cell_type": "markdown",
   "metadata": {
    "slideshow": {
     "slide_type": "slide"
    }
   },
   "source": [
    "## Plot Superposition\n",
    "\n",
    "Plots can be superimposed on each other. However, their ranges on axis should be similar."
   ]
  },
  {
   "cell_type": "code",
   "execution_count": 47,
   "metadata": {
    "ExecuteTime": {
     "end_time": "2019-10-19T18:06:22.444860Z",
     "start_time": "2019-10-19T18:06:22.252662Z"
    },
    "slideshow": {
     "slide_type": "fragment"
    }
   },
   "outputs": [
    {
     "data": {
      "text/plain": [
       "[<matplotlib.lines.Line2D at 0x7fa04bccdbe0>]"
      ]
     },
     "execution_count": 47,
     "metadata": {},
     "output_type": "execute_result"
    },
    {
     "data": {
      "image/png": "[encoded data removed]",
      "text/plain": [
       "<Figure size 432x288 with 1 Axes>"
      ]
     },
     "metadata": {
      "needs_background": "light"
     },
     "output_type": "display_data"
    }
   ],
   "source": [
    "plt.plot(theta, sine, color='r', label='sin') # r - red colour\n",
    "plt.plot(theta, cosine, color='g', label='cos') # g - green colour"
   ]
  },
  {
   "cell_type": "markdown",
   "metadata": {
    "slideshow": {
     "slide_type": "slide"
    }
   },
   "source": [
    "## Plot Superposition - Issues\n",
    "\n",
    "However, data having dissimilar ranges look awkward while superimposed."
   ]
  },
  {
   "cell_type": "code",
   "execution_count": 48,
   "metadata": {
    "ExecuteTime": {
     "end_time": "2019-10-19T18:06:22.656019Z",
     "start_time": "2019-10-19T18:06:22.447395Z"
    },
    "slideshow": {
     "slide_type": "fragment"
    }
   },
   "outputs": [
    {
     "data": {
      "text/plain": [
       "[<matplotlib.lines.Line2D at 0x7fa04bc95588>]"
      ]
     },
     "execution_count": 48,
     "metadata": {},
     "output_type": "execute_result"
    },
    {
     "data": {
      "image/png": "[encoded data removed]",
      "text/plain": [
       "<Figure size 432x288 with 1 Axes>"
      ]
     },
     "metadata": {
      "needs_background": "light"
     },
     "output_type": "display_data"
    }
   ],
   "source": [
    "hyp_sine = np.sinh(theta)\n",
    "plt.plot(theta, sine, color='r', label='sin') # r - red colour\n",
    "plt.plot(theta, hyp_sine, color='g', label='cos') # g - green colour"
   ]
  },
  {
   "cell_type": "markdown",
   "metadata": {
    "slideshow": {
     "slide_type": "slide"
    }
   },
   "source": [
    "## Plots with same x-axis and different y-axis ranges"
   ]
  },
  {
   "cell_type": "code",
   "execution_count": 49,
   "metadata": {
    "ExecuteTime": {
     "end_time": "2019-10-19T18:06:22.959259Z",
     "start_time": "2019-10-19T18:06:22.666600Z"
    },
    "slideshow": {
     "slide_type": "fragment"
    }
   },
   "outputs": [
    {
     "data": {
      "text/plain": [
       "<matplotlib.legend.Legend at 0x7fa04bb95eb8>"
      ]
     },
     "execution_count": 49,
     "metadata": {},
     "output_type": "execute_result"
    },
    {
     "data": {
      "image/png": "[encoded data removed]",
      "text/plain": [
       "<Figure size 432x288 with 2 Axes>"
      ]
     },
     "metadata": {
      "needs_background": "light"
     },
     "output_type": "display_data"
    }
   ],
   "source": [
    "fig, ax1 = plt.subplots() # Extracts the figure and axis parameters from plot\n",
    "\n",
    "ax2 = ax1.twinx()         # Makes a twin of the X axis.\n",
    "\n",
    "# plot the curves on axes 1, and 2, and get the curve handles\n",
    "curve1, = ax1.plot(theta, sine, label=\"sin\", color='r')\n",
    "curve2, = ax2.plot(theta, hyp_sine, label=\"sinh\", color='b')\n",
    "\n",
    "# Make a curves list to access the parameters in the curves\n",
    "curves = [curve1, curve2]\n",
    "# Getting legend labels using list comprehension\n",
    "ax1.legend(curves, [curve.get_label() for curve in curves], loc='lower right', shadow=True)"
   ]
  },
  {
   "cell_type": "markdown",
   "metadata": {
    "slideshow": {
     "slide_type": "slide"
    }
   },
   "source": [
    "## Plots with same y-axis and different x-axis ranges"
   ]
  },
  {
   "cell_type": "code",
   "execution_count": 50,
   "metadata": {
    "ExecuteTime": {
     "end_time": "2019-10-19T18:06:23.249420Z",
     "start_time": "2019-10-19T18:06:22.962899Z"
    },
    "slideshow": {
     "slide_type": "fragment"
    }
   },
   "outputs": [
    {
     "data": {
      "text/plain": [
       "<matplotlib.legend.Legend at 0x7fa04bad8668>"
      ]
     },
     "execution_count": 50,
     "metadata": {},
     "output_type": "execute_result"
    },
    {
     "data": {
      "image/png": "[encoded data removed]",
      "text/plain": [
       "<Figure size 432x288 with 2 Axes>"
      ]
     },
     "metadata": {
      "needs_background": "light"
     },
     "output_type": "display_data"
    }
   ],
   "source": [
    "fig, ax1 = plt.subplots() # Extracts the figure and axis parameters from plot\n",
    "\n",
    "ax2 = ax1.twiny()         # Makes a twin of the X axis.\n",
    "\n",
    "# plot the curves on axes 1, and 2, and get the curve handles\n",
    "curve1, = ax1.plot(sine, theta, label=\"sin\", color='r')\n",
    "curve2, = ax2.plot(hyp_sine, theta, label=\"sinh\", color='b')\n",
    "\n",
    "# Make a curves list to access the parameters in the curves\n",
    "curves = [curve1, curve2]\n",
    "# Getting legend labels using list comprehension\n",
    "ax1.legend(curves, [curve.get_label() for curve in curves], loc='lower right', shadow=True)"
   ]
  },
  {
   "cell_type": "markdown",
   "metadata": {
    "slideshow": {
     "slide_type": "slide"
    }
   },
   "source": [
    "## Colours in Matplotlib"
   ]
  },
  {
   "cell_type": "markdown",
   "metadata": {
    "slideshow": {
     "slide_type": "fragment"
    }
   },
   "source": [
    "Colouring options:\n",
    "* one of {'b',    'g',     'r',   'c',    'm',       'y',      'k'    , 'w'}\n",
    "* one of {'blue', 'green', 'red', 'cyan', 'magenta', 'yellow', 'black', 'white'}\n",
    "* an RGB or RGBA tuple of float values in [0, 1] (e.g., (0.1, 0.2, 0.5) or (0.1, 0.2, 0.5, 0.3))\n",
    "* a hex RGB or RGBA string (e.g., '#0F0F0F' or '#0F0F0F0F')\n",
    "* a string representation of a float value in [0, 1] inclusive for gray level (e.g., '0.5')\n",
    "* a X11/CSS4 color name\n",
    "* a name from the xkcd color survey prefixed with 'xkcd:' (e.g., 'xkcd:sky blue')\n",
    "* one of {'C0', 'C1', 'C2', 'C3', 'C4', 'C5', 'C6', 'C7', 'C8', 'C9'}\n",
    "* one of {'tab:blue', 'tab:orange', 'tab:green', 'tab:red', 'tab:purple', 'tab:brown', 'tab:pink', 'tab:gray', 'tab:olive', 'tab:cyan'}\n",
    "* which are the Tableau Colors from the ‘T10’ categorical palette (which is the default color cycle)."
   ]
  },
  {
   "cell_type": "markdown",
   "metadata": {
    "slideshow": {
     "slide_type": "subslide"
    }
   },
   "source": [
    "## Colours in Matplotlib"
   ]
  },
  {
   "cell_type": "markdown",
   "metadata": {
    "slideshow": {
     "slide_type": "fragment"
    }
   },
   "source": [
    "Sources:\n",
    "\n",
    "https://matplotlib.org/users/colors.html\n",
    "\n",
    "https://matplotlib.org/api/colors_api.html\n",
    "\n",
    "https://xkcd.com/color/rgb/\n",
    "\n",
    "https://www.w3.org/TR/css-color-4/\n",
    "\n",
    "https://matplotlib.org/examples/color/named_colors.html"
   ]
  },
  {
   "cell_type": "markdown",
   "metadata": {
    "slideshow": {
     "slide_type": "slide"
    }
   },
   "source": [
    "## Plotting Styles"
   ]
  },
  {
   "cell_type": "code",
   "execution_count": 51,
   "metadata": {
    "ExecuteTime": {
     "end_time": "2019-10-19T18:06:23.256022Z",
     "start_time": "2019-10-19T18:06:23.251982Z"
    },
    "slideshow": {
     "slide_type": "fragment"
    }
   },
   "outputs": [
    {
     "name": "stdout",
     "output_type": "stream",
     "text": [
      "['fast', 'seaborn-colorblind', 'seaborn-pastel', 'seaborn-ticks', 'bmh', 'seaborn-notebook', 'seaborn-white', 'Solarize_Light2', 'fivethirtyeight', 'seaborn-deep', 'grayscale', 'seaborn-dark', 'seaborn-muted', 'seaborn-whitegrid', 'ggplot', 'seaborn-poster', 'seaborn', 'seaborn-paper', 'tableau-colorblind10', '_classic_test', 'seaborn-bright', 'classic', 'seaborn-darkgrid', 'dark_background', 'seaborn-talk', 'seaborn-dark-palette']\n"
     ]
    }
   ],
   "source": [
    "import matplotlib as mpl\n",
    "print(mpl.style.available)"
   ]
  },
  {
   "cell_type": "markdown",
   "metadata": {
    "slideshow": {
     "slide_type": "subslide"
    }
   },
   "source": [
    "## Plotting Styles"
   ]
  },
  {
   "cell_type": "code",
   "execution_count": 52,
   "metadata": {
    "ExecuteTime": {
     "end_time": "2019-10-19T18:06:24.026853Z",
     "start_time": "2019-10-19T18:06:23.258717Z"
    },
    "slideshow": {
     "slide_type": "fragment"
    }
   },
   "outputs": [
    {
     "data": {
      "image/png": "[encoded data removed]",
      "text/plain": [
       "<Figure size 640x480 with 1 Axes>"
      ]
     },
     "metadata": {},
     "output_type": "display_data"
    }
   ],
   "source": [
    "mpl.style.use('default')\n",
    "plt.plot(theta, sine, color='xkcd:salmon', label='sin') # XKCD Colours\n",
    "plt.xlabel(\"Angle in Radians\")\n",
    "plt.ylabel(\"Magnitude\")\n",
    "plt.title(\"Plot of some trigonometric functions\")\n",
    "plt.xticks(xnumbers)\n",
    "plt.yticks(ynumbers)\n",
    "plt.legend()\n",
    "plt.grid()\n",
    "plt.axis([0, 6.5, -1.1, 1.1]) # [xstart, xend, ystart, yend]\n",
    "plt.savefig(\"images/Full_SinePlot.jpg\", format=\"jpg\", dpi=400)"
   ]
  },
  {
   "cell_type": "markdown",
   "metadata": {
    "slideshow": {
     "slide_type": "subslide"
    }
   },
   "source": [
    "## Plotting Styles"
   ]
  },
  {
   "cell_type": "code",
   "execution_count": 53,
   "metadata": {
    "ExecuteTime": {
     "end_time": "2019-10-19T18:06:24.528697Z",
     "start_time": "2019-10-19T18:06:24.028619Z"
    },
    "slideshow": {
     "slide_type": "fragment"
    }
   },
   "outputs": [
    {
     "data": {
      "image/png": "[encoded data removed]",
      "text/plain": [
       "<Figure size 640x480 with 1 Axes>"
      ]
     },
     "metadata": {},
     "output_type": "display_data"
    }
   ],
   "source": [
    "mpl.style.use('ggplot')\n",
    "plt.plot(theta, sine, color='tab:brown', label='sin') # Tableau Colours\n",
    "plt.xlabel(\"Angle in Radians\")\n",
    "plt.ylabel(\"Magnitude\")\n",
    "plt.title(\"Plot of some trigonometric functions\")\n",
    "plt.xticks(xnumbers)\n",
    "plt.yticks(ynumbers)\n",
    "plt.legend()\n",
    "plt.grid()\n",
    "plt.axis([0, 6.5, -1.1, 1.1]) # [xstart, xend, ystart, yend]\n",
    "plt.savefig(\"images/Full_SinePlot.jpg\", format=\"jpg\", dpi=400)"
   ]
  },
  {
   "cell_type": "markdown",
   "metadata": {
    "slideshow": {
     "slide_type": "subslide"
    }
   },
   "source": [
    "## Plotting Styles"
   ]
  },
  {
   "cell_type": "code",
   "execution_count": 54,
   "metadata": {
    "ExecuteTime": {
     "end_time": "2019-10-19T18:06:25.258776Z",
     "start_time": "2019-10-19T18:06:24.530924Z"
    },
    "slideshow": {
     "slide_type": "fragment"
    }
   },
   "outputs": [
    {
     "data": {
      "image/png": "[encoded data removed]",
      "text/plain": [
       "<Figure size 640x480 with 1 Axes>"
      ]
     },
     "metadata": {},
     "output_type": "display_data"
    }
   ],
   "source": [
    "mpl.style.use('classic')\n",
    "plt.plot(theta, sine, color='crimson', label='sin') # CSS4 Colours\n",
    "plt.xlabel(\"Angle in Radians\")\n",
    "plt.ylabel(\"Magnitude\")\n",
    "plt.title(\"Plot of some trigonometric functions\")\n",
    "plt.xticks(xnumbers)\n",
    "plt.yticks(ynumbers)\n",
    "plt.legend()\n",
    "plt.grid()\n",
    "plt.axis([0, 6.5, -1.1, 1.1]) # [xstart, xend, ystart, yend]\n",
    "plt.savefig(\"images/Full_SinePlot.jpg\", format=\"jpg\", dpi=400)"
   ]
  },
  {
   "cell_type": "markdown",
   "metadata": {
    "slideshow": {
     "slide_type": "subslide"
    }
   },
   "source": [
    "## Plotting Styles"
   ]
  },
  {
   "cell_type": "code",
   "execution_count": 55,
   "metadata": {
    "ExecuteTime": {
     "end_time": "2019-10-19T18:06:25.900275Z",
     "start_time": "2019-10-19T18:06:25.261401Z"
    },
    "slideshow": {
     "slide_type": "fragment"
    }
   },
   "outputs": [
    {
     "data": {
      "image/png": "[encoded data removed]",
      "text/plain": [
       "<Figure size 640x440 with 1 Axes>"
      ]
     },
     "metadata": {},
     "output_type": "display_data"
    }
   ],
   "source": [
    "mpl.style.use('seaborn')\n",
    "plt.plot(theta, sine, color=(183/255, 20/255, 169/255, 10/100), label='sin') # Manual Colour\n",
    "plt.xlabel(\"Angle in Radians\")\n",
    "plt.ylabel(\"Magnitude\")\n",
    "plt.title(\"Plot of some trigonometric functions\")\n",
    "plt.xticks(xnumbers)\n",
    "plt.yticks(ynumbers)\n",
    "plt.legend()\n",
    "plt.grid()\n",
    "plt.axis([0, 6.5, -1.1, 1.1]) # [xstart, xend, ystart, yend]\n",
    "plt.savefig(\"images/Full_SinePlot.jpg\", format=\"jpg\", dpi=400)"
   ]
  },
  {
   "cell_type": "markdown",
   "metadata": {
    "slideshow": {
     "slide_type": "slide"
    }
   },
   "source": [
    "## Histogram Plots"
   ]
  },
  {
   "cell_type": "markdown",
   "metadata": {
    "ExecuteTime": {
     "end_time": "2019-10-18T19:10:26.280570Z",
     "start_time": "2019-10-18T19:10:25.502399Z"
    },
    "slideshow": {
     "slide_type": "fragment"
    }
   },
   "source": [
    "```python\n",
    "import matplotlib.mlab as mlab \n",
    "mpl.style.use('seaborn')\n",
    "# To have the same random numbers repeated again and again.\n",
    "np.random.seed(2785)\n",
    "\n",
    "mean = 100\n",
    "sd = 15\n",
    "N = 1000\n",
    "binsize = 50\n",
    "\n",
    "# Data\n",
    "IQ = np.random.normal(mean, sd, N)\n",
    "\n",
    "counts, bins, extras = plt.hist(IQ, binsize, facecolor='chocolate', edgecolor='k', label='IQs', density=True)\n",
    "\n",
    "# An idealised PDF\n",
    "pdf = mlab.normpdf(bins, mean, sd) # Creates the pdf of normal distribution\n",
    "\n",
    "plt.plot(bins, pdf, label='series', color='xkcd:navy blue') # Use this in case of classic style\n",
    "plt.xlabel('IQ')\n",
    "plt.ylabel('Count/Fraction')\n",
    "plt.xticks(bins[::5]) # Pick every 5th element\n",
    "plt.title('IQ Distribution Histogram')\n",
    "plt.grid(True)\n",
    "plt.legend()\n",
    "plt.savefig(\"images/histogram.png\", format=\"png\", dpi=400)\n",
    "plt.show()\n",
    "```"
   ]
  },
  {
   "cell_type": "markdown",
   "metadata": {
    "slideshow": {
     "slide_type": "subslide"
    }
   },
   "source": [
    "<img src=\"images/histogram.png\" width=800 height=800 />"
   ]
  },
  {
   "cell_type": "markdown",
   "metadata": {
    "slideshow": {
     "slide_type": "slide"
    }
   },
   "source": [
    "## Barchart Plots"
   ]
  },
  {
   "cell_type": "markdown",
   "metadata": {
    "slideshow": {
     "slide_type": "fragment"
    }
   },
   "source": [
    "```python\n",
    "mpl.style.use('seaborn')\n",
    "# Data\n",
    "IQ = np.random.normal(mean, sd, N)\n",
    "\n",
    "counts, bins = np.histogram(IQ, binsize, density=True)\n",
    "# print(np.shape(counts), np.shape(bins))\n",
    "errors = np.ones(50)*0.5\n",
    "bar_Width = 1.5\n",
    "\n",
    "# An idealised PDF\n",
    "pdf = mlab.normpdf(bins, mean, sd) # Creates the pdf of normal distribution\n",
    "plt.plot(bins, pdf, label='series', color='xkcd:navy blue')\n",
    "\n",
    "plt.bar(bins[:-1], counts, facecolor='chocolate', edgecolor='k', width=bar_Width, label='sample bar1')#, yerr=errors)\n",
    "plt.xlabel('values')\n",
    "plt.ylabel('Count/Fraction')\n",
    "plt.title('Simple Bar chart')\n",
    "plt.grid(True)\n",
    "plt.legend()\n",
    "plt.savefig(\"barChart.png\", format=\"png\", dpi=400)\n",
    "plt.show()\n",
    "```"
   ]
  },
  {
   "cell_type": "markdown",
   "metadata": {
    "slideshow": {
     "slide_type": "subslide"
    }
   },
   "source": [
    "<img src=\"images/barChart.png\" width=800 height=800 />"
   ]
  },
  {
   "cell_type": "markdown",
   "metadata": {
    "slideshow": {
     "slide_type": "slide"
    }
   },
   "source": [
    "## Scatter Plots"
   ]
  },
  {
   "cell_type": "markdown",
   "metadata": {
    "slideshow": {
     "slide_type": "fragment"
    }
   },
   "source": [
    "```python\n",
    "\n",
    "np.random.seed(2785)\n",
    "\n",
    "N = 1001\n",
    "X = np.linspace(-2.0*np.pi, 2.0*np.pi, N)\n",
    "Y = 0.1*np.random.normal(0, 1, N) + np.sin(X)\n",
    "\n",
    "# Some additions : label, marker, marker colour\n",
    "# For different Marker styles : https://matplotlib.org/api/markers_api.html\n",
    "plt.scatter(X, Y, label='sine scatter', marker='o', c='chocolate', s=30, edgecolors='blue', alpha=0.95, linewidths=0.75)\n",
    "# marker size = in area of pixels! not mere size of pixel\n",
    "# More fancier additions: marker size, edge colour, transparency, edgewidth\n",
    "# marker size is in area of pixels! so, specify a large value\n",
    "\n",
    "plt.xlabel('Angles')\n",
    "plt.ylabel('Points')\n",
    "plt.title('Sample Scatter Plot')\n",
    "plt.grid(True)\n",
    "plt.savefig(\"ScatterPlot.png\", format='png', dpi=400)\n",
    "plt.legend()\n",
    "plt.show()\n",
    "```"
   ]
  },
  {
   "cell_type": "markdown",
   "metadata": {
    "slideshow": {
     "slide_type": "subslide"
    }
   },
   "source": [
    "<img src=\"images/ScatterPlot.png\" width=800 height=800 />"
   ]
  },
  {
   "cell_type": "markdown",
   "metadata": {
    "slideshow": {
     "slide_type": "slide"
    }
   },
   "source": [
    "## Contour Plot"
   ]
  },
  {
   "cell_type": "markdown",
   "metadata": {
    "slideshow": {
     "slide_type": "fragment"
    }
   },
   "source": [
    "```python\n",
    "# Matplotlib Plotting Tutorials\n",
    "# Contour/contourf Plot\n",
    "import numpy as np\n",
    "import matplotlib.pyplot as plt\n",
    "import matplotlib\n",
    "matplotlib.style.use('ggplot')\n",
    "n1 = 101\n",
    "n2 = 51\n",
    "x1 = np.linspace(0, 2.0*np.pi, n1)\n",
    "x2 = np.linspace(0, 2.0*np.pi, n2)\n",
    "X1, X2 = np.meshgrid(x1, x2)\n",
    "Z = np.sin(X1) * np.cos(X2)\n",
    "breaks = np.linspace(-1, 1, 11)\n",
    "# matplotlib.rcParams['contour.negative_linestyle'] = 'solid'\n",
    "plt.figure()\n",
    "CS2 = plt.contourf(X1, X2, Z,\n",
    "                 levels=breaks,\n",
    "                 # cmap='seismic',\n",
    "                 # colors='k',\n",
    "                 # colors=('r', 'g', 'b', 'c', 'm', 'y', 'k', 'xkcd:chocolate', 'xkcd:beige', 'xkcd:salmon', 'xkcd:azure'),\n",
    "                 extend='both', vmin=-1.0, vmax=1.0\n",
    "                 )\n",
    "plt.colorbar(CS2, ticks=breaks, orientation='vertical')\n",
    "CS1 = plt.contour(X1, X2, Z,\n",
    "                 levels=breaks,\n",
    "                 # cmap='seismic',\n",
    "                 colors='k',\n",
    "                 # colors=('r', 'g', 'b', 'c', 'm', 'y', 'k', 'xkcd:chocolate', 'xkcd:beige', 'xkcd:salmon', 'xkcd:azure'),\n",
    "                 extend='both', vmin=-1.0, vmax=1.0\n",
    "                 )\n",
    "plt.clabel(CS1, inline=1, fontsize=10,\n",
    "                # manual = manual_locations, # Pass a list of tuples for coordinates of labels\n",
    "                )\n",
    "plt.xlabel('angles 1')\n",
    "plt.ylabel('angles 2')\n",
    "plt.grid()\n",
    "plt.title('Sine Cosine Wave')\n",
    "plt.show()\n",
    "```"
   ]
  },
  {
   "cell_type": "markdown",
   "metadata": {
    "slideshow": {
     "slide_type": "subslide"
    }
   },
   "source": [
    "<img src=\"images/contour_plot.png\" width=800 height=800 />"
   ]
  },
  {
   "cell_type": "markdown",
   "metadata": {
    "slideshow": {
     "slide_type": "slide"
    }
   },
   "source": [
    "## Colour Maps\n",
    "\n",
    "Reference:\n",
    "\n",
    "https://matplotlib.org/examples/color/colormaps_reference.html\n",
    "\n",
    "https://matplotlib.org/3.1.1/tutorials/colors/colormaps.html\n",
    "\n",
    "There are 6 types of Colour Maps:\n",
    "\n",
    "* Perpetually Changing Colour Maps\n",
    "\n",
    "* Sequential Colour Maps\n",
    "\n",
    "* Diverging Colour Maps\n",
    "\n",
    "* Cyclic Colour Maps\n",
    "\n",
    "* Qualitative Colour Maps\n",
    "\n",
    "* Miscellaneous Colour Maps"
   ]
  },
  {
   "cell_type": "markdown",
   "metadata": {
    "slideshow": {
     "slide_type": "subslide"
    }
   },
   "source": [
    "## Tips while choosing colour maps\n",
    "\n",
    "* Use Sequential/Perpetual Colour maps for smooth data.\n",
    "* Use Diverging colour maps when the data has both positive and negative data point.\n",
    "* Use Qualitative colour maps for very stark data segregation.\n",
    "* Cyclic colour maps are useful when the extremes are like \"periodic\". eg: angles, directions, etc.,\n",
    "* Usually avoid miscellaneous colour maps. Use them in wisely.\n",
    "\n",
    "* To flip/reverse a ``colormap``, add ``_r`` to the ``colormap``. eg: ``gist_heat`` and ``gist_heat_r`` are reversed.\n",
    "* Using the right ``colormap`` involves a lot of trial and error.\n",
    "* Avoid ``rainbow`` and ``jet`` colourmaps at any cost. Some reasons why:\n",
    "    * https://agilescientific.com/blog/2017/12/14/no-more-rainbows\n",
    "    * https://www.scientificamerican.com/article/end-of-the-rainbow-new-map-scale-is-more-readable-by-people-who-are-color-blind/\n",
    "    * https://eagereyes.org/basics/rainbow-color-map\n",
    "* Advanced users can make your own custom colormaps.\n",
    "    * http://colorbrewer2.org/\n",
    "    * https://matplotlib.org/3.1.0/tutorials/colors/colormap-manipulation.html"
   ]
  },
  {
   "cell_type": "markdown",
   "metadata": {
    "slideshow": {
     "slide_type": "subslide"
    }
   },
   "source": [
    "<img src=\"images/colourmaps.png\" width=2000 height=2000 />"
   ]
  },
  {
   "cell_type": "markdown",
   "metadata": {
    "slideshow": {
     "slide_type": "slide"
    }
   },
   "source": [
    "## Animations\n",
    "\n",
    "### How to go about it? - Simple Animation\n",
    "\n",
    "* Do all the calculations before hand. (to save computation time)\n",
    "* Set a finite loop.\n",
    "* Clean previous frame.\n",
    "* Plot the data corresponding to each time frame.\n",
    "* Use ``plt.pause()`` to stop the frame to see it.\n",
    "\n",
    "### Animation Video\n",
    "\n",
    "* Create a figure object\n",
    "* Set the looping mechanism as a function and pass an iterating variable.\n",
    "* Plot the figure with one handle.\n",
    "* Let the function return a plot handle.\n",
    "* Use ``matplotlib.animation.FuncAnimation()`` function to create an animation video object.\n",
    "* Save the video using the animation."
   ]
  },
  {
   "cell_type": "markdown",
   "metadata": {
    "slideshow": {
     "slide_type": "skip"
    }
   },
   "source": [
    "## Simple Animation Script - Rose Curves\n",
    "\n",
    "```python\n",
    "# Animation Example\n",
    "# To read more about it: https://en.wikipedia.org/wiki/Rose_(mathematics)\n",
    "\n",
    "import numpy as np\n",
    "from matplotlib import pyplot as plt    \n",
    "from matplotlib import animation as anim\n",
    "\n",
    "def rose_curves(n, d):\n",
    "\t\n",
    "\tk = n/d\n",
    "\n",
    "\tlim = d*2.0*np.pi\n",
    "\t\n",
    "\ttheta = np.linspace(0, lim, nlim)\n",
    "\t\n",
    "\tr = scale*np.cos(k*theta)\n",
    "\t\n",
    "\tx = r*np.cos(theta)\n",
    "\ty = r*np.sin(theta)\n",
    "\t\n",
    "\treturn x, y\n",
    "\n",
    "# Data\n",
    "scale = 5\n",
    "nlim = 1001\n",
    "num = 8.0\n",
    "den = 9.0\n",
    "xcord, ycord = rose_curves(num, den)\n",
    "xmin = -5.5\n",
    "xmax = 5.5\n",
    "ymin = -5.5\n",
    "ymax = 5.5\n",
    "\n",
    "fig = plt.figure() # Create a dummy figure\n",
    "\n",
    "for i in range(nlim):\n",
    "\n",
    "\tplt.clf()\n",
    "\t# fix to keep the axis steady\n",
    "\tplt.scatter([xmin, xmax, xmin, xmax], [ymin, ymin, ymax, ymax], color='azure')\n",
    "\t# actual animation\n",
    "\tplt.plot(xcord[:i+1], ycord[:i+1], label=\"rose curve\", color=\"chocolate\")\n",
    "\t# tracer point\n",
    "\tplt.scatter(xcord[i], ycord[i], s=20, marker='o', edgecolor='k', color='green')\n",
    "\t# centre point\n",
    "\tplt.scatter([0], [0], s=20, marker='o', edgecolor='k', color='red')\n",
    "\tplt.title(f\"Rose curve with k={num/den} Iteration={i} out of {nlim}\")\n",
    "\tplt.suptitle(\"Rose curve animation\")\n",
    "\tplt.xlim([xmin, xmax])\n",
    "\tplt.ylim([ymin, ymax])\n",
    "\tplt.axis('equal')\n",
    "\tplt.grid(True)\n",
    "\tplt.pause(0.001)\n",
    "\n",
    "```"
   ]
  },
  {
   "cell_type": "markdown",
   "metadata": {
    "slideshow": {
     "slide_type": "skip"
    }
   },
   "source": [
    "## Animated Video - Dynamic Epicyles\n",
    "\n",
    "```python\n",
    "\n",
    "'''\n",
    "Source to read:\n",
    "https://mathematica.stackexchange.com/questions/100051/dynamic-epicycles\n",
    "https://www.jstor.org/stable/2691465\n",
    "'''\n",
    "\n",
    "import numpy as np\n",
    "from matplotlib import pyplot as plt    \n",
    "from matplotlib import animation as anim\n",
    "\n",
    "n = 1001\n",
    "a = 0\n",
    "b = 4.0*np.pi\n",
    "\n",
    "theta = np.linspace(a, b, n)\n",
    "x = np.cos(theta) + 0.5*np.cos(7.0*theta) + (1.0/3.0)*np.sin(17.0*theta)\n",
    "y = np.sin(theta) + 0.5*np.sin(7.0*theta) + (1.0/3.0)*np.cos(17.0*theta)\n",
    "\n",
    "fig = plt.figure()       \t\t# Create a dummy figure\n",
    "\n",
    "pts_x = 11\n",
    "pts_y = 11\n",
    "xmin = -2\n",
    "xmax = 2\n",
    "ymin = -2\n",
    "ymax = 2\n",
    "\n",
    "xticks = np.linspace(xmin, xmax, pts_x)\n",
    "yticks = np.linspace(ymin, ymax, pts_y)\n",
    "\n",
    "def animate(i):\n",
    "\tplt.clf()\n",
    "\t# fix to keep the axis steady\n",
    "\tplt.scatter([xmin, xmax, xmin, xmax], [ymin, ymin, ymax, ymax], color='azure')\n",
    "\t# actual plot to be animated\n",
    "\tplot = plt.plot(x[:i+1], y[:i+1], label=\"epicycle curve\", color='chocolate')\n",
    "\t# trace dot\n",
    "\tplt.scatter(x[i], y[i], s=20, marker='o', edgecolor='k', color='red')\n",
    "\tplt.title('Epicycle curve at t = '+str(i))\n",
    "\tplt.xlabel('$x$')\n",
    "\tplt.ylabel('$y$') \n",
    "\tplt.suptitle(\"Epicycle Exercise\")\n",
    "\tplt.xticks(xticks)\n",
    "\tplt.yticks(yticks)\n",
    "\tplt.xlim([xmin, xmax])\n",
    "\tplt.ylim([ymin, ymax])\n",
    "\tplt.axis('equal')\n",
    "\tplt.grid(True)\n",
    "\tplt.legend(loc='upper right')\n",
    "\tplt.pause(0.001)\n",
    "\tprint(i)\n",
    "\treturn plot,\n",
    " \n",
    "ani = anim.FuncAnimation(fig, animate, interval = 1000, frames=n)\n",
    "ani.save('epicycle_animation.mp4',fps=5)\n",
    "\n",
    "\n",
    "```"
   ]
  },
  {
   "cell_type": "markdown",
   "metadata": {
    "slideshow": {
     "slide_type": "slide"
    }
   },
   "source": [
    "## JuPyter Notebooks\n",
    "\n",
    "You can write short codes and experiment/document it in the notebook. The notebook has an extension ``*.ipynb``.\n",
    "\n",
    "### So, what is it?\n",
    "\n",
    "* Initially called as IPython Notebooks, later the project moved to JuPyter \n",
    "* GUI interface Made using HTML, CSS, JavaScript, reveal.js, Bootstrap, jQuery, JSON, and few others,\n",
    "* Uses Markdown for syntax, Pandoc for file conversions, JSON as source code, MathJax for $\\LaTeX$ rendering\n",
    "* Runs in a web browser with an inbuilt server using tornado.\n",
    "* Has an internal kernel slot for a programming engine primarily designed for Python.\n",
    "    * Other Programming languages can also be used inside\n",
    "        * eg: R, Julia, Haskell, Ruby etc.,\n",
    "* Can call a terminal, and multiple Python kernels can run simultaneously,\n",
    "* Also, **Multiple programming kernels can run simultaneously and exchange data!**,\n",
    "    * Works with R and Python using support libraries.\n",
    "* Similar to Mathematica notebooks, it helps to run code in batches,\n",
    "* Has more features than its predecessor, IPython Notebooks,\n",
    "* Can write notes using Markdown, make presentation using tornado, reveal.js, and few other software,\n",
    "* Conversion into Python Code, HTML webpage, HTML based slides, PDF, Rich Text Format, LaTeX files possible!"
   ]
  },
  {
   "cell_type": "code",
   "execution_count": 56,
   "metadata": {
    "ExecuteTime": {
     "end_time": "2019-10-19T18:06:25.906080Z",
     "start_time": "2019-10-19T18:06:25.902101Z"
    },
    "slideshow": {
     "slide_type": "slide"
    }
   },
   "outputs": [
    {
     "name": "stdout",
     "output_type": "stream",
     "text": [
      "Hello!\n"
     ]
    }
   ],
   "source": [
    "print(\"Hello!\")"
   ]
  },
  {
   "cell_type": "markdown",
   "metadata": {
    "slideshow": {
     "slide_type": "fragment"
    }
   },
   "source": [
    "Or you can make text content possible using Markdown! This cell is mark down!"
   ]
  },
  {
   "cell_type": "markdown",
   "metadata": {
    "slideshow": {
     "slide_type": "fragment"
    }
   },
   "source": [
    "All the cells have a Markdown/Code/Header option/Nbconvert option on the top, below help button"
   ]
  },
  {
   "cell_type": "markdown",
   "metadata": {
    "slideshow": {
     "slide_type": "fragment"
    }
   },
   "source": [
    "Variables you create/run in the notebook are active till the notebook is closed."
   ]
  },
  {
   "cell_type": "markdown",
   "metadata": {
    "slideshow": {
     "slide_type": "subslide"
    }
   },
   "source": [
    "## How to open?\n",
    "---\n",
    "* Go to terminal,\n",
    "* Type ipython notebook\n",
    "\n",
    "Your browser will open and you will have a Home window.\n",
    "\n",
    "* On the top right side, look for new > notebook > python 2(3)\n",
    "* Click, and a new tab opens up.\n",
    "* This is your notebook."
   ]
  },
  {
   "cell_type": "markdown",
   "metadata": {
    "slideshow": {
     "slide_type": "subslide"
    }
   },
   "source": [
    "## How to type code?\n",
    "---\n",
    "\n",
    "* Open a cell.\n",
    "* Type your commands (a group preferably)\n",
    "* Type CTRL + Enter to execute the cell"
   ]
  },
  {
   "cell_type": "code",
   "execution_count": 58,
   "metadata": {
    "ExecuteTime": {
     "end_time": "2019-10-19T18:07:21.673070Z",
     "start_time": "2019-10-19T18:07:21.669157Z"
    },
    "slideshow": {
     "slide_type": "fragment"
    }
   },
   "outputs": [
    {
     "name": "stdout",
     "output_type": "stream",
     "text": [
      "This is a code cell > Where codes are written and executed\n"
     ]
    }
   ],
   "source": [
    "print(\"This is a code cell > Where codes are written and executed\")"
   ]
  },
  {
   "cell_type": "markdown",
   "metadata": {
    "slideshow": {
     "slide_type": "fragment"
    }
   },
   "source": [
    "This is a markup cell where plain writing and formatted writing is possible."
   ]
  },
  {
   "cell_type": "markdown",
   "metadata": {
    "slideshow": {
     "slide_type": "fragment"
    }
   },
   "source": [
    "This is very good for documentation!"
   ]
  },
  {
   "cell_type": "markdown",
   "metadata": {
    "slideshow": {
     "slide_type": "subslide"
    }
   },
   "source": [
    "## Headings\n",
    "\n",
    "For example\n",
    "    # Heading\n",
    "becomes\n",
    "\n",
    "# Heading"
   ]
  },
  {
   "cell_type": "markdown",
   "metadata": {
    "slideshow": {
     "slide_type": "fragment"
    }
   },
   "source": [
    "    ## Small Heading\n",
    "gives\n",
    "\n",
    "## Small Heading\n",
    "\n",
    "    ### much smaller\n",
    "gives\n",
    "\n",
    "### much smaller"
   ]
  },
  {
   "cell_type": "markdown",
   "metadata": {
    "slideshow": {
     "slide_type": "fragment"
    }
   },
   "source": [
    "To make underlines, use 3 or 4 minus signs in a new line. For instance\n",
    "\n",
    "```\n",
    "---\n",
    "```\n",
    "\n",
    "becomes\n",
    "\n",
    "----\n",
    "\n",
    "    Use tabs to make syntax writeups like this one"
   ]
  },
  {
   "cell_type": "markdown",
   "metadata": {
    "slideshow": {
     "slide_type": "fragment"
    }
   },
   "source": [
    "Wrap lines with underscores or asterix symbols for italics.\n",
    "\n",
    "    _This is italicized_ or even *this*\n",
    "    \n",
    "_This is italicized_ or even *this*\n",
    "\n",
    "Wrap with two of them to make them bold.\n",
    "\n",
    "    __bold__ like **this**\n",
    "    \n",
    "__bold__ like **this**\n",
    "\n",
    "Mix them both to make sentences bold and italics\n",
    "\n",
    "    __*bold and italics*__\n",
    "    \n",
    "__*bold and italics*__"
   ]
  },
  {
   "cell_type": "markdown",
   "metadata": {
    "slideshow": {
     "slide_type": "subslide"
    }
   },
   "source": [
    "## Lists\n",
    "\n",
    "You can make lists by simply adding a * on the first line. For numbered lists, use numbers!\n",
    "\n",
    "    * item 1\n",
    "    * item 2\n",
    "    \n",
    "* item 1\n",
    "* item 2\n",
    "\n",
    "        2. item 1\n",
    "          * subitem\n",
    "            * subsubitem\n",
    "        2. item 2\n",
    "        4. item 3\n",
    "    \n",
    "    \n",
    "1. item 1\n",
    "  * subitem\n",
    "    * subsubitem\n",
    "2. item 2\n",
    "4. item 3"
   ]
  },
  {
   "cell_type": "markdown",
   "metadata": {
    "slideshow": {
     "slide_type": "subslide"
    }
   },
   "source": [
    "## Syntax Highlights for program snippets in Documentation\n",
    "\n",
    "\n",
    "To write python or other language codes, use the following notation\n",
    "\n",
    "    ```(language name)\n",
    "        codes\n",
    "    ```\n"
   ]
  },
  {
   "cell_type": "markdown",
   "metadata": {
    "slideshow": {
     "slide_type": "fragment"
    }
   },
   "source": [
    "eg:\n",
    "\n",
    "    ```python\n",
    "     for i in range(0, n):\n",
    "         b += i\n",
    "    ```\n",
    "\n",
    "becomes\n",
    "\n",
    "```python\n",
    "for i in range(0, n):\n",
    "    b += i\n",
    "```"
   ]
  },
  {
   "cell_type": "markdown",
   "metadata": {
    "slideshow": {
     "slide_type": "subslide"
    }
   },
   "source": [
    "\n",
    "or\n",
    "    ```fortran\n",
    "    subroutine foo()\n",
    "        print *, 'test'\n",
    "    end subroutine\n",
    "    ```\n",
    "    \n",
    "```fortran\n",
    "    subroutine foo()\n",
    "        print *, 'test'\n",
    "    end subroutine\n",
    "```\n",
    "\n",
    "or\n",
    "    ```c\n",
    "    void main() {\n",
    "        printf(\"Hello World\");\n",
    "    }\n",
    "    ```\n",
    "\n",
    "```c\n",
    "    void main() {\n",
    "        printf(\"Hello World\");\n",
    "    }\n",
    "```"
   ]
  },
  {
   "cell_type": "markdown",
   "metadata": {
    "slideshow": {
     "slide_type": "subslide"
    }
   },
   "source": [
    "\n",
    "Not specifying the language will not give syntax highlighting\n",
    "    ```\n",
    "    void main() {\n",
    "        printf(\"Hello World\");\n",
    "    }\n",
    "    ```\n",
    "\n",
    "```\n",
    "    void main() {\n",
    "        printf(\"Hello World\");\n",
    "    }\n",
    "```"
   ]
  },
  {
   "cell_type": "markdown",
   "metadata": {
    "slideshow": {
     "slide_type": "slide"
    }
   },
   "source": [
    "## Quotes, LaTeX symbols and Links"
   ]
  },
  {
   "cell_type": "markdown",
   "metadata": {
    "slideshow": {
     "slide_type": "fragment"
    }
   },
   "source": [
    "You can add quotes by using the greater than symbol:\n",
    "    > this is a quote\n",
    "    \n",
    "    while this is not\n",
    "    \n",
    "> this is a quote\n",
    "\n",
    "while this is not"
   ]
  },
  {
   "cell_type": "markdown",
   "metadata": {
    "slideshow": {
     "slide_type": "fragment"
    }
   },
   "source": [
    "Adding a link is really easy as well!\n",
    "\n",
    "    [Title](http://this.is.a.link.com)\n",
    "    \n",
    "[Title](http://this.is.a.link.com)\n",
    "\n",
    "or for a sensible example\n",
    "    \n",
    "    [Google](http://google.com)\n",
    "    \n",
    "[Google](http://google.com)"
   ]
  },
  {
   "cell_type": "markdown",
   "metadata": {
    "slideshow": {
     "slide_type": "slide"
    }
   },
   "source": [
    "You can add pictures, youtube videos etc.,\n",
    "\n",
    "Use these lines in one of the cells to enable access images\n",
    "```python\n",
    "from IPython.display import HTML\n",
    "from IPython.display import Image\n",
    "```"
   ]
  },
  {
   "cell_type": "markdown",
   "metadata": {
    "slideshow": {
     "slide_type": "fragment"
    }
   },
   "source": [
    "## LaTeX notations can be used\n",
    "\n",
    "This is for including scientific and mathematical notations\n",
    "\n",
    "Just add latex commands within dollar signs\n",
    "\n",
    "    $\\int_a^b f(x)dx$\n",
    "    \n",
    "becomes\n",
    "$\\int_a^b f(x)dx$"
   ]
  },
  {
   "cell_type": "markdown",
   "metadata": {
    "slideshow": {
     "slide_type": "fragment"
    }
   },
   "source": [
    "To enable the import of Images, use ```Image``` function. For instance\n",
    "\n",
    "```python\n",
    "Image(filename='images/IISc_logo.jpg',width=200,height=200) \n",
    "```\n",
    "\n",
    "or use the ``HTML5`` tag\n",
    "\n",
    "```HTML\n",
    "<img src=\"images/IISc_logo.jpg\" width=200 height=200 />\n",
    "```"
   ]
  },
  {
   "cell_type": "markdown",
   "metadata": {
    "slideshow": {
     "slide_type": "slide"
    }
   },
   "source": [
    "## To make a slide show\n",
    "\n",
    "* Use the documentation skills nicely and effectively.\n",
    "* Set the top cell toolbar to Slideshow option, thereby enabling it.\n",
    "* While typing the contents, set the slide type near the right end of the cells to\n",
    "    * Slide (Major Sections in the Presentation)\n",
    "    * Sub-Slide (Subsections for Sections)\n",
    "    * Skip (To avoid slides in presentation)\n",
    "    * Fragment (To enable point-by-point transition)\n",
    "    * None (No specific format. Follows Fragment)\n",
    "    \n",
    "IPython notebook enables a 2D presentation instead of 1D presentation."
   ]
  },
  {
   "cell_type": "markdown",
   "metadata": {
    "slideshow": {
     "slide_type": "subslide"
    }
   },
   "source": [
    "## To get a presentation\n",
    "\n",
    "To make a presentation, type\n",
    "\n",
    "    ipython nbconvert notebookname.ipynb --to slides\n",
    "    \n",
    "You will get an embedded HTML file.\n",
    "\n",
    "To enable proper presentation with transitions, type\n",
    "\n",
    "    ipython nbconvert notebookname.ipynb --to slides --post serve"
   ]
  },
  {
   "cell_type": "markdown",
   "metadata": {
    "slideshow": {
     "slide_type": "slide"
    }
   },
   "source": [
    "## Installing Jupyter Extensions\n",
    "\n",
    "To install various Jupyter Notebook, Spyder, and their extensions, you can use ``conda`` or ``pip``\n",
    "\n",
    "Using ``conda``:\n",
    "\n",
    "```bash\n",
    "conda install -c conda-forge jupyterlab jupyter_contrib_nbextensions\n",
    "jupyter contrib nbextension install\n",
    "\n",
    "conda install -c spyder-ide spyder spyder-notebook spyder-terminal spyder-unittest spyder-reports\n",
    "\n",
    "```\n",
    "\n",
    "Using ``pip``:\n",
    "\n",
    "```bash\n",
    "pip install jupyterlab jupyter_contrib_nbextensions\n",
    "jupyter contrib nbextension install\n",
    "\n",
    "pip install spyder spyder-notebook spyder-terminal spyder-unittest spyder-reports\n",
    "``` "
   ]
  },
  {
   "cell_type": "markdown",
   "metadata": {
    "slideshow": {
     "slide_type": "slide"
    }
   },
   "source": [
    "## About Cython \n",
    "\n",
    "It is a combination of Python and C. This methodology can make you write a few more lines of codes to your python script to make it run as fast as a C code!\n",
    "\n",
    "This is worth experimenting! It is quite easy, but development work is hard.\n",
    "\n",
    "* Write a Python code with a \\*.pyx format\n",
    "* Make corrections to the code based on some rules that make the Python code look like C.\n",
    "* Create a file called setup.py with a few cython library commands to take this \\*.pyx file and convert it into a python file and later a shared-object file/Dynamically Linked Library.\n",
    "* Import it inside python scripts as just like a regular module and use them!"
   ]
  },
  {
   "cell_type": "markdown",
   "metadata": {
    "slideshow": {
     "slide_type": "slide"
    }
   },
   "source": [
    "## f2py\n",
    "\n",
    "Invoking Fortran procedures (functions and subroutines) inside python.\n",
    "\n",
    "Used for making certain tedious operations passed to fortran to enable speed, but retain python to have an overall control.\n",
    "\n",
    "A nice tool to combine Speed (Fortran) and Simplicity (Python)."
   ]
  },
  {
   "cell_type": "markdown",
   "metadata": {
    "slideshow": {
     "slide_type": "fragment"
    }
   },
   "source": [
    "## How to make it?\n",
    "\n",
    "* Write a fortran file having all subroutines and modules.\n",
    "* Compile it using f2py to get a shared object\n",
    "* Import it as a module in python\n",
    "* Use it like a regular python class/function/object"
   ]
  },
  {
   "cell_type": "markdown",
   "metadata": {
    "slideshow": {
     "slide_type": "slide"
    }
   },
   "source": [
    "## Numba\n",
    "\n",
    "This module is for speeding-up python files without any C, C++, Fortran tools. The resulting code runs at speeds comparable to that of C, C++ and Fortran.\n",
    "\n",
    "* Import jit from numba\n",
    "* Define a regular python function\n",
    "* Add a decorator on top of it\n",
    "\n",
    "It is the easiest way so far!"
   ]
  },
  {
   "cell_type": "markdown",
   "metadata": {
    "slideshow": {
     "slide_type": "slide"
    }
   },
   "source": [
    "## MPI4PY\n",
    "\n",
    "Use Message Passing Interface inside Python. Used for scaling Python codes in workstations and super computers for parallel programming!\n",
    "\n",
    "Python 2 and 3 Compatible!\n",
    "\n",
    "Recommended for people interested in parallel programming!"
   ]
  },
  {
   "cell_type": "markdown",
   "metadata": {
    "slideshow": {
     "slide_type": "slide"
    }
   },
   "source": [
    "## About Anaconda Cloud\n",
    "\n",
    "Web-based Python environment and storage facility. https://anaconda.org/\n",
    "\n",
    "Online python terminal + IPython notebook + shell terminal + environment + Cloud support!\n",
    "\n",
    "Worth experimenting!"
   ]
  },
  {
   "cell_type": "markdown",
   "metadata": {
    "slideshow": {
     "slide_type": "slide"
    }
   },
   "source": [
    "## Other interesting packages\n",
    "\n",
    "* Pandas - for data analysis\n",
    "* Iris - Reading NetCDF data and Plotting\n",
    "* CDAT - Atmospheric/Oceanic Science related plotting\n",
    "* Cartopy - Alternative for Basemap, data visualization on maps\n",
    "* MayaVI - 3D visualization library, also a separate software\n",
    "* Joblib, XRay - for handling netcdf files easily\n",
    "* Django, Flask - web framework development\n",
    "* scikit - machine learning\n",
    "* pycuda - GPU parallel programming\n",
    "* seaborn - statistical plotting, visualization, data analysis\n",
    "* windspharm - using spherical harmonics for calculating divergence, vorticity etc.,\n",
    "* rpy - use R programming libraries in Python\n",
    "* PyQT, Tkinter, PyGTK - GUI libraries for making plots, apps, software\n",
    "\n",
    "The list is endless! Dive in and experiment it out!"
   ]
  },
  {
   "cell_type": "markdown",
   "metadata": {
    "slideshow": {
     "slide_type": "slide"
    }
   },
   "source": [
    "## PEP8 conventions\n",
    "\n",
    "**What is it?**\n",
    "\n",
    "* Python Extension Protocol Version 8,\n",
    "* A set of programming syntax standards for writing code, naming variables etc.,\n",
    "* One of many conventions and guidelines while writing code; an attempt to standardize the coding styles,\n",
    "* Recommended for people writing projects to have the \"same\" programming syntax and style in all the codes,\n",
    "* **If contributing the code to public, following a guideline standard is highly recommended**,\n",
    "\n",
    "**Usage of such standards is not compulsory. Rather, it is a suggestion. One can deviate from PEP8. However, for readability, and consistency, it is recommended to stick to a guideline standard that is either suggested (like PEP8) or developed manually**\n"
   ]
  },
  {
   "cell_type": "markdown",
   "metadata": {
    "slideshow": {
     "slide_type": "slide"
    }
   },
   "source": [
    "## \"The Zen of Python\"\n",
    "\n",
    "* A few things to keep in mind while writing programs,\n",
    "* Not hard and fast, but definitely worth keeping in mind while doing a lot of programming,"
   ]
  },
  {
   "cell_type": "code",
   "execution_count": null,
   "metadata": {
    "ExecuteTime": {
     "end_time": "2019-10-19T18:06:26.020881Z",
     "start_time": "2019-10-19T18:05:38.101Z"
    },
    "slideshow": {
     "slide_type": "slide"
    }
   },
   "outputs": [],
   "source": [
    "import this"
   ]
  },
  {
   "cell_type": "markdown",
   "metadata": {
    "slideshow": {
     "slide_type": "slide"
    }
   },
   "source": [
    "# Any Questions?"
   ]
  },
  {
   "cell_type": "code",
   "execution_count": null,
   "metadata": {
    "slideshow": {
     "slide_type": "slide"
    }
   },
   "outputs": [],
   "source": []
  }
 ],
 "metadata": {
  "celltoolbar": "Slideshow",
  "kernelspec": {
   "display_name": "Python 3",
   "language": "python",
   "name": "python3"
  },
  "language_info": {
   "codemirror_mode": {
    "name": "ipython",
    "version": 3
   },
   "file_extension": ".py",
   "mimetype": "text/x-python",
   "name": "python",
   "nbconvert_exporter": "python",
   "pygments_lexer": "ipython3",
   "version": "3.7.3"
  },
  "toc": {
   "base_numbering": 1,
   "nav_menu": {},
   "number_sections": false,
   "sideBar": true,
   "skip_h1_title": false,
   "title_cell": "Table of Contents",
   "title_sidebar": "Contents",
   "toc_cell": true,
   "toc_position": {},
   "toc_section_display": true,
   "toc_window_display": true
  },
  "varInspector": {
   "cols": {
    "lenName": 16,
    "lenType": 16,
    "lenVar": 40
   },
   "kernels_config": {
    "python": {
     "delete_cmd_postfix": "",
     "delete_cmd_prefix": "del ",
     "library": "var_list.py",
     "varRefreshCmd": "print(var_dic_list())"
    },
    "r": {
     "delete_cmd_postfix": ") ",
     "delete_cmd_prefix": "rm(",
     "library": "var_list.r",
     "varRefreshCmd": "cat(var_dic_list()) "
    }
   },
   "types_to_exclude": [
    "module",
    "function",
    "builtin_function_or_method",
    "instance",
    "_Feature"
   ],
   "window_display": false
  }
 },
 "nbformat": 4,
 "nbformat_minor": 2
}
